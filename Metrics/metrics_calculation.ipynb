{
  "cells": [
    {
      "cell_type": "code",
      "source": [
        "!pip install sacrebleu"
      ],
      "metadata": {
        "colab": {
          "base_uri": "https://localhost:8080/"
        },
        "id": "2PhlmXgNRGiH",
        "outputId": "1532808e-edc9-477b-a271-9a879c206fa5"
      },
      "execution_count": null,
      "outputs": [
        {
          "output_type": "stream",
          "name": "stdout",
          "text": [
            "Collecting sacrebleu\n",
            "  Downloading sacrebleu-2.5.1-py3-none-any.whl.metadata (51 kB)\n",
            "\u001b[?25l     \u001b[90m━━━━━━━━━━━━━━━━━━━━━━━━━━━━━━━━━━━━━━━━\u001b[0m \u001b[32m0.0/51.8 kB\u001b[0m \u001b[31m?\u001b[0m eta \u001b[36m-:--:--\u001b[0m\r\u001b[2K     \u001b[90m━━━━━━━━━━━━━━━━━━━━━━━━━━━━━━━━━━━━━━━━\u001b[0m \u001b[32m51.8/51.8 kB\u001b[0m \u001b[31m2.8 MB/s\u001b[0m eta \u001b[36m0:00:00\u001b[0m\n",
            "\u001b[?25hCollecting portalocker (from sacrebleu)\n",
            "  Downloading portalocker-3.1.1-py3-none-any.whl.metadata (8.6 kB)\n",
            "Requirement already satisfied: regex in /usr/local/lib/python3.11/dist-packages (from sacrebleu) (2024.11.6)\n",
            "Requirement already satisfied: tabulate>=0.8.9 in /usr/local/lib/python3.11/dist-packages (from sacrebleu) (0.9.0)\n",
            "Requirement already satisfied: numpy>=1.17 in /usr/local/lib/python3.11/dist-packages (from sacrebleu) (1.26.4)\n",
            "Collecting colorama (from sacrebleu)\n",
            "  Downloading colorama-0.4.6-py2.py3-none-any.whl.metadata (17 kB)\n",
            "Requirement already satisfied: lxml in /usr/local/lib/python3.11/dist-packages (from sacrebleu) (5.3.0)\n",
            "Downloading sacrebleu-2.5.1-py3-none-any.whl (104 kB)\n",
            "\u001b[2K   \u001b[90m━━━━━━━━━━━━━━━━━━━━━━━━━━━━━━━━━━━━━━━━\u001b[0m \u001b[32m104.1/104.1 kB\u001b[0m \u001b[31m8.3 MB/s\u001b[0m eta \u001b[36m0:00:00\u001b[0m\n",
            "\u001b[?25hDownloading colorama-0.4.6-py2.py3-none-any.whl (25 kB)\n",
            "Downloading portalocker-3.1.1-py3-none-any.whl (19 kB)\n",
            "Installing collected packages: portalocker, colorama, sacrebleu\n",
            "Successfully installed colorama-0.4.6 portalocker-3.1.1 sacrebleu-2.5.1\n"
          ]
        }
      ]
    },
    {
      "cell_type": "code",
      "source": [
        "!pip install evaluate"
      ],
      "metadata": {
        "colab": {
          "base_uri": "https://localhost:8080/"
        },
        "id": "vFi8VqsYrSGV",
        "outputId": "11fafdb0-831d-48c4-8a1f-23f1797504cf"
      },
      "execution_count": null,
      "outputs": [
        {
          "output_type": "stream",
          "name": "stdout",
          "text": [
            "Collecting evaluate\n",
            "  Downloading evaluate-0.4.3-py3-none-any.whl.metadata (9.2 kB)\n",
            "Collecting datasets>=2.0.0 (from evaluate)\n",
            "  Downloading datasets-3.2.0-py3-none-any.whl.metadata (20 kB)\n",
            "Requirement already satisfied: numpy>=1.17 in /usr/local/lib/python3.11/dist-packages (from evaluate) (1.26.4)\n",
            "Collecting dill (from evaluate)\n",
            "  Downloading dill-0.3.9-py3-none-any.whl.metadata (10 kB)\n",
            "Requirement already satisfied: pandas in /usr/local/lib/python3.11/dist-packages (from evaluate) (2.2.2)\n",
            "Requirement already satisfied: requests>=2.19.0 in /usr/local/lib/python3.11/dist-packages (from evaluate) (2.32.3)\n",
            "Requirement already satisfied: tqdm>=4.62.1 in /usr/local/lib/python3.11/dist-packages (from evaluate) (4.67.1)\n",
            "Collecting xxhash (from evaluate)\n",
            "  Downloading xxhash-3.5.0-cp311-cp311-manylinux_2_17_x86_64.manylinux2014_x86_64.whl.metadata (12 kB)\n",
            "Collecting multiprocess (from evaluate)\n",
            "  Downloading multiprocess-0.70.17-py311-none-any.whl.metadata (7.2 kB)\n",
            "Requirement already satisfied: fsspec>=2021.05.0 in /usr/local/lib/python3.11/dist-packages (from fsspec[http]>=2021.05.0->evaluate) (2024.10.0)\n",
            "Requirement already satisfied: huggingface-hub>=0.7.0 in /usr/local/lib/python3.11/dist-packages (from evaluate) (0.27.1)\n",
            "Requirement already satisfied: packaging in /usr/local/lib/python3.11/dist-packages (from evaluate) (24.2)\n",
            "Requirement already satisfied: filelock in /usr/local/lib/python3.11/dist-packages (from datasets>=2.0.0->evaluate) (3.17.0)\n",
            "Requirement already satisfied: pyarrow>=15.0.0 in /usr/local/lib/python3.11/dist-packages (from datasets>=2.0.0->evaluate) (17.0.0)\n",
            "Collecting dill (from evaluate)\n",
            "  Downloading dill-0.3.8-py3-none-any.whl.metadata (10 kB)\n",
            "Collecting multiprocess (from evaluate)\n",
            "  Downloading multiprocess-0.70.16-py311-none-any.whl.metadata (7.2 kB)\n",
            "Collecting fsspec>=2021.05.0 (from fsspec[http]>=2021.05.0->evaluate)\n",
            "  Downloading fsspec-2024.9.0-py3-none-any.whl.metadata (11 kB)\n",
            "Requirement already satisfied: aiohttp in /usr/local/lib/python3.11/dist-packages (from datasets>=2.0.0->evaluate) (3.11.11)\n",
            "Requirement already satisfied: pyyaml>=5.1 in /usr/local/lib/python3.11/dist-packages (from datasets>=2.0.0->evaluate) (6.0.2)\n",
            "Requirement already satisfied: typing-extensions>=3.7.4.3 in /usr/local/lib/python3.11/dist-packages (from huggingface-hub>=0.7.0->evaluate) (4.12.2)\n",
            "Requirement already satisfied: charset-normalizer<4,>=2 in /usr/local/lib/python3.11/dist-packages (from requests>=2.19.0->evaluate) (3.4.1)\n",
            "Requirement already satisfied: idna<4,>=2.5 in /usr/local/lib/python3.11/dist-packages (from requests>=2.19.0->evaluate) (3.10)\n",
            "Requirement already satisfied: urllib3<3,>=1.21.1 in /usr/local/lib/python3.11/dist-packages (from requests>=2.19.0->evaluate) (2.3.0)\n",
            "Requirement already satisfied: certifi>=2017.4.17 in /usr/local/lib/python3.11/dist-packages (from requests>=2.19.0->evaluate) (2024.12.14)\n",
            "Requirement already satisfied: python-dateutil>=2.8.2 in /usr/local/lib/python3.11/dist-packages (from pandas->evaluate) (2.8.2)\n",
            "Requirement already satisfied: pytz>=2020.1 in /usr/local/lib/python3.11/dist-packages (from pandas->evaluate) (2024.2)\n",
            "Requirement already satisfied: tzdata>=2022.7 in /usr/local/lib/python3.11/dist-packages (from pandas->evaluate) (2025.1)\n",
            "Requirement already satisfied: aiohappyeyeballs>=2.3.0 in /usr/local/lib/python3.11/dist-packages (from aiohttp->datasets>=2.0.0->evaluate) (2.4.4)\n",
            "Requirement already satisfied: aiosignal>=1.1.2 in /usr/local/lib/python3.11/dist-packages (from aiohttp->datasets>=2.0.0->evaluate) (1.3.2)\n",
            "Requirement already satisfied: attrs>=17.3.0 in /usr/local/lib/python3.11/dist-packages (from aiohttp->datasets>=2.0.0->evaluate) (24.3.0)\n",
            "Requirement already satisfied: frozenlist>=1.1.1 in /usr/local/lib/python3.11/dist-packages (from aiohttp->datasets>=2.0.0->evaluate) (1.5.0)\n",
            "Requirement already satisfied: multidict<7.0,>=4.5 in /usr/local/lib/python3.11/dist-packages (from aiohttp->datasets>=2.0.0->evaluate) (6.1.0)\n",
            "Requirement already satisfied: propcache>=0.2.0 in /usr/local/lib/python3.11/dist-packages (from aiohttp->datasets>=2.0.0->evaluate) (0.2.1)\n",
            "Requirement already satisfied: yarl<2.0,>=1.17.0 in /usr/local/lib/python3.11/dist-packages (from aiohttp->datasets>=2.0.0->evaluate) (1.18.3)\n",
            "Requirement already satisfied: six>=1.5 in /usr/local/lib/python3.11/dist-packages (from python-dateutil>=2.8.2->pandas->evaluate) (1.17.0)\n",
            "Downloading evaluate-0.4.3-py3-none-any.whl (84 kB)\n",
            "\u001b[2K   \u001b[90m━━━━━━━━━━━━━━━━━━━━━━━━━━━━━━━━━━━━━━━━\u001b[0m \u001b[32m84.0/84.0 kB\u001b[0m \u001b[31m7.6 MB/s\u001b[0m eta \u001b[36m0:00:00\u001b[0m\n",
            "\u001b[?25hDownloading datasets-3.2.0-py3-none-any.whl (480 kB)\n",
            "\u001b[2K   \u001b[90m━━━━━━━━━━━━━━━━━━━━━━━━━━━━━━━━━━━━━━━━\u001b[0m \u001b[32m480.6/480.6 kB\u001b[0m \u001b[31m35.3 MB/s\u001b[0m eta \u001b[36m0:00:00\u001b[0m\n",
            "\u001b[?25hDownloading dill-0.3.8-py3-none-any.whl (116 kB)\n",
            "\u001b[2K   \u001b[90m━━━━━━━━━━━━━━━━━━━━━━━━━━━━━━━━━━━━━━━━\u001b[0m \u001b[32m116.3/116.3 kB\u001b[0m \u001b[31m11.1 MB/s\u001b[0m eta \u001b[36m0:00:00\u001b[0m\n",
            "\u001b[?25hDownloading fsspec-2024.9.0-py3-none-any.whl (179 kB)\n",
            "\u001b[2K   \u001b[90m━━━━━━━━━━━━━━━━━━━━━━━━━━━━━━━━━━━━━━━━\u001b[0m \u001b[32m179.3/179.3 kB\u001b[0m \u001b[31m14.5 MB/s\u001b[0m eta \u001b[36m0:00:00\u001b[0m\n",
            "\u001b[?25hDownloading multiprocess-0.70.16-py311-none-any.whl (143 kB)\n",
            "\u001b[2K   \u001b[90m━━━━━━━━━━━━━━━━━━━━━━━━━━━━━━━━━━━━━━━━\u001b[0m \u001b[32m143.5/143.5 kB\u001b[0m \u001b[31m12.8 MB/s\u001b[0m eta \u001b[36m0:00:00\u001b[0m\n",
            "\u001b[?25hDownloading xxhash-3.5.0-cp311-cp311-manylinux_2_17_x86_64.manylinux2014_x86_64.whl (194 kB)\n",
            "\u001b[2K   \u001b[90m━━━━━━━━━━━━━━━━━━━━━━━━━━━━━━━━━━━━━━━━\u001b[0m \u001b[32m194.8/194.8 kB\u001b[0m \u001b[31m18.7 MB/s\u001b[0m eta \u001b[36m0:00:00\u001b[0m\n",
            "\u001b[?25hInstalling collected packages: xxhash, fsspec, dill, multiprocess, datasets, evaluate\n",
            "  Attempting uninstall: fsspec\n",
            "    Found existing installation: fsspec 2024.10.0\n",
            "    Uninstalling fsspec-2024.10.0:\n",
            "      Successfully uninstalled fsspec-2024.10.0\n",
            "\u001b[31mERROR: pip's dependency resolver does not currently take into account all the packages that are installed. This behaviour is the source of the following dependency conflicts.\n",
            "gcsfs 2024.10.0 requires fsspec==2024.10.0, but you have fsspec 2024.9.0 which is incompatible.\u001b[0m\u001b[31m\n",
            "\u001b[0mSuccessfully installed datasets-3.2.0 dill-0.3.8 evaluate-0.4.3 fsspec-2024.9.0 multiprocess-0.70.16 xxhash-3.5.0\n"
          ]
        }
      ]
    },
    {
      "cell_type": "code",
      "execution_count": null,
      "metadata": {
        "id": "Q5A_dt5er9Oo"
      },
      "outputs": [],
      "source": [
        "import pickle\n",
        "import sacrebleu\n",
        "import evaluate\n",
        "#from comet import download_model, load_from_checkpoint\n",
        "import numpy as np"
      ]
    },
    {
      "cell_type": "code",
      "source": [
        "from google.colab import drive\n",
        "drive.mount('/content/drive')"
      ],
      "metadata": {
        "colab": {
          "base_uri": "https://localhost:8080/"
        },
        "id": "KZ8ZT_ZRMQlN",
        "outputId": "f5362494-e6d0-4807-e334-61f2ef8dd0e9"
      },
      "execution_count": null,
      "outputs": [
        {
          "output_type": "stream",
          "name": "stdout",
          "text": [
            "Drive already mounted at /content/drive; to attempt to forcibly remount, call drive.mount(\"/content/drive\", force_remount=True).\n"
          ]
        }
      ]
    },
    {
      "cell_type": "code",
      "execution_count": null,
      "metadata": {
        "id": "PUkVH9-yr9Oq"
      },
      "outputs": [],
      "source": [
        "\n",
        "# Load the dictionaries\n",
        "dictionaries_direct = {\n",
        "    \"NLLB-200\": {\n",
        "        \"finnish\": \"/content/drive/MyDrive/research_methods/results/translations/he_fi_dict_nllb_200_direct.pkl\",\n",
        "        \"ukrainian\": \"/content/drive/MyDrive/research_methods/results/translations/he_uk_dict_nllb_200_direct.pkl\"\n",
        "    },\n",
        "    \"Helsinki\": {\n",
        "        \"finnish\": \"/content/drive/MyDrive/research_methods/results/translations/he_fi_dict_helsinki_direct.pkl\",\n",
        "        \"ukrainian\": \"/content/drive/MyDrive/research_methods/results/translations/he_uk_dict_helsinki_direct.pkl\"\n",
        "    },\n",
        "    \"Google\": {\n",
        "        \"finnish\": \"/content/drive/MyDrive/research_methods/results/translations/he_fi_dict_google_direct.pkl\",\n",
        "        \"ukrainian\": \"/content/drive/MyDrive/research_methods/results/translations/he_uk_dict_google_direct.pkl\"\n",
        "    },\n",
        "    \"Llama\": {\n",
        "        \"finnish\": \"/content/drive/MyDrive/research_methods/results/translations/he_fi_dict_llama3_direct.pkl\",\n",
        "        \"ukrainian\": \"/content/drive/MyDrive/research_methods/results/translations/he_uk_dict_llama3_direct.pkl\"\n",
        "    }\n",
        "}"
      ]
    },
    {
      "cell_type": "code",
      "execution_count": null,
      "metadata": {
        "id": "PX8va209r9Oq"
      },
      "outputs": [],
      "source": [
        "\n",
        "# base translation dict\n",
        "with open(\"/content/drive/Shareddrives/reaserch_methods/עותק של final_he_fi_dict.pkl\", \"rb\") as f:\n",
        "    he_fi_reference = pickle.load(f)\n",
        "\n",
        "with open(\"/content/drive/Shareddrives/reaserch_methods/עותק של final_he_uk_dict.pkl\", \"rb\") as f:\n",
        "    he_uk_reference = pickle.load(f)\n",
        "\n"
      ]
    },
    {
      "cell_type": "code",
      "source": [
        "model_path = download_model(\"Unbabel/wmt22-comet-da\")\n",
        "model = load_from_checkpoint(model_path)\n"
      ],
      "metadata": {
        "id": "N6g6ovgukd2i"
      },
      "execution_count": null,
      "outputs": []
    },
    {
      "cell_type": "code",
      "execution_count": null,
      "metadata": {
        "id": "996jFpynr9Or"
      },
      "outputs": [],
      "source": [
        "def calculate_metrics(translations_dict, reference_dict):\n",
        "    \"\"\"\n",
        "    Calculate BLEU, METEOR, and COMET scores for translations\n",
        "    \"\"\"\n",
        "    hypotheses = []\n",
        "    references = []\n",
        "\n",
        "    # Extract translations and references\n",
        "    for key in translations_dict:\n",
        "        if key in reference_dict:\n",
        "\n",
        "            hyp = translations_dict[key][1]  #  model translation\n",
        "\n",
        "            ref = reference_dict[key][1]     # base translation\n",
        "\n",
        "            ##create list of base and model translations\n",
        "            hypotheses.append(hyp)\n",
        "            references.append([ref])\n",
        "\n",
        "    # Calculate BLEU score\n",
        "    bleu = sacrebleu.corpus_bleu(hypotheses, references) ## calculate on all sentences\n",
        "\n",
        "    # Calculate METEOR score\n",
        "    meteor = evaluate.load('meteor')\n",
        "    meteor_score = meteor.compute(predictions=hypotheses, references=[ref[0] for ref in references])\n",
        "\n",
        "    # Calculate COMET score\n",
        "    model_path = download_model(\"Unbabel/wmt22-comet-da\")\n",
        "    model = load_from_checkpoint(model_path)\n",
        "\n",
        "    # Prepare data for COMET\n",
        "    comet_data = [\n",
        "        {\n",
        "            \"src\": translations_dict[key][0],  # Source text\n",
        "            \"mt\": translations_dict[key][1],   # model translation\n",
        "            \"ref\": reference_dict[key][1]      # base translation\n",
        "        }\n",
        "        for key in translations_dict if key in reference_dict\n",
        "    ]\n",
        "\n",
        "    comet_scores = model.predict(comet_data, batch_size=8, gpus=1)\n",
        "    # Extract the system score from COMET output\n",
        "    comet_score = float(comet_scores.system_score)\n",
        "\n",
        "    return {\n",
        "        \"BLEU\": bleu.score,\n",
        "        \"METEOR\": meteor_score['meteor'],\n",
        "        \"COMET\": comet_score\n",
        "    }"
      ]
    },
    {
      "cell_type": "code",
      "execution_count": null,
      "metadata": {
        "colab": {
          "base_uri": "https://localhost:8080/",
          "height": 1000,
          "referenced_widgets": [
            "4f28eda3f4554a989a01b4407535edb0",
            "65232e87f1134cfd84af690c6d1f76aa",
            "ba3107a842a747e1b245cef931774f68",
            "176b03819a4544598abaf084da07352f",
            "33dc29478314416cb181436fd786cfa8",
            "5163b6a1873843ffbe449aeb9bee4a45",
            "24b5d63107474802838ea7b865bd8598",
            "9f87881c6d4d42308c8f67f38f564f13",
            "a492c3831807466e8f91d2a6a65100b8",
            "2e88d7a1d09544cd92cf059e1fea5c16",
            "29ef102efa0a496f8eb913cc3e207291"
          ]
        },
        "id": "jbM7oW2kr9Or",
        "outputId": "2952527d-35b1-4da1-8e9d-71d43d0b67cb",
        "collapsed": true
      },
      "outputs": [
        {
          "output_type": "stream",
          "name": "stderr",
          "text": [
            "/usr/local/lib/python3.11/dist-packages/huggingface_hub/utils/_auth.py:94: UserWarning: \n",
            "The secret `HF_TOKEN` does not exist in your Colab secrets.\n",
            "To authenticate with the Hugging Face Hub, create a token in your settings tab (https://huggingface.co/settings/tokens), set it as secret in your Google Colab and restart your session.\n",
            "You will be able to reuse this secret in all of your notebooks.\n",
            "Please note that authentication is recommended but still optional to access public models or datasets.\n",
            "  warnings.warn(\n"
          ]
        },
        {
          "output_type": "display_data",
          "data": {
            "text/plain": [
              "Downloading builder script:   0%|          | 0.00/7.02k [00:00<?, ?B/s]"
            ],
            "application/vnd.jupyter.widget-view+json": {
              "version_major": 2,
              "version_minor": 0,
              "model_id": "4f28eda3f4554a989a01b4407535edb0"
            }
          },
          "metadata": {}
        },
        {
          "output_type": "stream",
          "name": "stderr",
          "text": [
            "[nltk_data] Downloading package wordnet to /root/nltk_data...\n",
            "[nltk_data] Downloading package punkt_tab to /root/nltk_data...\n",
            "[nltk_data]   Unzipping tokenizers/punkt_tab.zip.\n",
            "[nltk_data] Downloading package omw-1.4 to /root/nltk_data...\n",
            "[nltk_data] Downloading package wordnet to /root/nltk_data...\n",
            "[nltk_data]   Package wordnet is already up-to-date!\n",
            "[nltk_data] Downloading package punkt_tab to /root/nltk_data...\n",
            "[nltk_data]   Package punkt_tab is already up-to-date!\n",
            "[nltk_data] Downloading package omw-1.4 to /root/nltk_data...\n",
            "[nltk_data]   Package omw-1.4 is already up-to-date!\n",
            "[nltk_data] Downloading package wordnet to /root/nltk_data...\n",
            "[nltk_data]   Package wordnet is already up-to-date!\n",
            "[nltk_data] Downloading package punkt_tab to /root/nltk_data...\n",
            "[nltk_data]   Package punkt_tab is already up-to-date!\n",
            "[nltk_data] Downloading package omw-1.4 to /root/nltk_data...\n",
            "[nltk_data]   Package omw-1.4 is already up-to-date!\n",
            "[nltk_data] Downloading package wordnet to /root/nltk_data...\n",
            "[nltk_data]   Package wordnet is already up-to-date!\n",
            "[nltk_data] Downloading package punkt_tab to /root/nltk_data...\n",
            "[nltk_data]   Package punkt_tab is already up-to-date!\n",
            "[nltk_data] Downloading package omw-1.4 to /root/nltk_data...\n",
            "[nltk_data]   Package omw-1.4 is already up-to-date!\n",
            "[nltk_data] Downloading package wordnet to /root/nltk_data...\n",
            "[nltk_data]   Package wordnet is already up-to-date!\n",
            "[nltk_data] Downloading package punkt_tab to /root/nltk_data...\n",
            "[nltk_data]   Package punkt_tab is already up-to-date!\n",
            "[nltk_data] Downloading package omw-1.4 to /root/nltk_data...\n",
            "[nltk_data]   Package omw-1.4 is already up-to-date!\n",
            "[nltk_data] Downloading package wordnet to /root/nltk_data...\n",
            "[nltk_data]   Package wordnet is already up-to-date!\n",
            "[nltk_data] Downloading package punkt_tab to /root/nltk_data...\n",
            "[nltk_data]   Package punkt_tab is already up-to-date!\n",
            "[nltk_data] Downloading package omw-1.4 to /root/nltk_data...\n",
            "[nltk_data]   Package omw-1.4 is already up-to-date!\n",
            "[nltk_data] Downloading package wordnet to /root/nltk_data...\n",
            "[nltk_data]   Package wordnet is already up-to-date!\n",
            "[nltk_data] Downloading package punkt_tab to /root/nltk_data...\n",
            "[nltk_data]   Package punkt_tab is already up-to-date!\n",
            "[nltk_data] Downloading package omw-1.4 to /root/nltk_data...\n",
            "[nltk_data]   Package omw-1.4 is already up-to-date!\n"
          ]
        },
        {
          "output_type": "error",
          "ename": "KeyboardInterrupt",
          "evalue": "",
          "traceback": [
            "\u001b[0;31m---------------------------------------------------------------------------\u001b[0m",
            "\u001b[0;31mKeyboardInterrupt\u001b[0m                         Traceback (most recent call last)",
            "\u001b[0;32m<ipython-input-16-d02529777b6f>\u001b[0m in \u001b[0;36m<cell line: 0>\u001b[0;34m()\u001b[0m\n\u001b[1;32m      8\u001b[0m     \u001b[0;32mwith\u001b[0m \u001b[0mopen\u001b[0m\u001b[0;34m(\u001b[0m\u001b[0mpaths\u001b[0m\u001b[0;34m[\u001b[0m\u001b[0;34m\"finnish\"\u001b[0m\u001b[0;34m]\u001b[0m\u001b[0;34m,\u001b[0m \u001b[0;34m\"rb\"\u001b[0m\u001b[0;34m)\u001b[0m \u001b[0;32mas\u001b[0m \u001b[0mf\u001b[0m\u001b[0;34m:\u001b[0m\u001b[0;34m\u001b[0m\u001b[0;34m\u001b[0m\u001b[0m\n\u001b[1;32m      9\u001b[0m         \u001b[0mfinnish_translations\u001b[0m \u001b[0;34m=\u001b[0m \u001b[0mpickle\u001b[0m\u001b[0;34m.\u001b[0m\u001b[0mload\u001b[0m\u001b[0;34m(\u001b[0m\u001b[0mf\u001b[0m\u001b[0;34m)\u001b[0m\u001b[0;34m\u001b[0m\u001b[0;34m\u001b[0m\u001b[0m\n\u001b[0;32m---> 10\u001b[0;31m     \u001b[0mresults\u001b[0m\u001b[0;34m[\u001b[0m\u001b[0msystem_name\u001b[0m\u001b[0;34m]\u001b[0m\u001b[0;34m[\u001b[0m\u001b[0;34m\"finnish\"\u001b[0m\u001b[0;34m]\u001b[0m \u001b[0;34m=\u001b[0m \u001b[0mcalculate_metrics\u001b[0m\u001b[0;34m(\u001b[0m\u001b[0mfinnish_translations\u001b[0m\u001b[0;34m,\u001b[0m \u001b[0mhe_fi_reference\u001b[0m\u001b[0;34m)\u001b[0m\u001b[0;34m\u001b[0m\u001b[0;34m\u001b[0m\u001b[0m\n\u001b[0m\u001b[1;32m     11\u001b[0m \u001b[0;34m\u001b[0m\u001b[0m\n\u001b[1;32m     12\u001b[0m     \u001b[0;31m# Ukrainian translations\u001b[0m\u001b[0;34m\u001b[0m\u001b[0;34m\u001b[0m\u001b[0m\n",
            "\u001b[0;32m<ipython-input-15-510cf4299e63>\u001b[0m in \u001b[0;36mcalculate_metrics\u001b[0;34m(translations_dict, reference_dict)\u001b[0m\n\u001b[1;32m     23\u001b[0m     \u001b[0;31m# Calculate METEOR score\u001b[0m\u001b[0;34m\u001b[0m\u001b[0;34m\u001b[0m\u001b[0m\n\u001b[1;32m     24\u001b[0m     \u001b[0mmeteor\u001b[0m \u001b[0;34m=\u001b[0m \u001b[0mevaluate\u001b[0m\u001b[0;34m.\u001b[0m\u001b[0mload\u001b[0m\u001b[0;34m(\u001b[0m\u001b[0;34m'meteor'\u001b[0m\u001b[0;34m)\u001b[0m\u001b[0;34m\u001b[0m\u001b[0;34m\u001b[0m\u001b[0m\n\u001b[0;32m---> 25\u001b[0;31m     \u001b[0mmeteor_score\u001b[0m \u001b[0;34m=\u001b[0m \u001b[0mmeteor\u001b[0m\u001b[0;34m.\u001b[0m\u001b[0mcompute\u001b[0m\u001b[0;34m(\u001b[0m\u001b[0mpredictions\u001b[0m\u001b[0;34m=\u001b[0m\u001b[0mhypotheses\u001b[0m\u001b[0;34m,\u001b[0m \u001b[0mreferences\u001b[0m\u001b[0;34m=\u001b[0m\u001b[0;34m[\u001b[0m\u001b[0mref\u001b[0m\u001b[0;34m[\u001b[0m\u001b[0;36m0\u001b[0m\u001b[0;34m]\u001b[0m \u001b[0;32mfor\u001b[0m \u001b[0mref\u001b[0m \u001b[0;32min\u001b[0m \u001b[0mreferences\u001b[0m\u001b[0;34m]\u001b[0m\u001b[0;34m)\u001b[0m\u001b[0;34m\u001b[0m\u001b[0;34m\u001b[0m\u001b[0m\n\u001b[0m\u001b[1;32m     26\u001b[0m \u001b[0;34m\u001b[0m\u001b[0m\n\u001b[1;32m     27\u001b[0m     \u001b[0;31m# Calculate COMET score\u001b[0m\u001b[0;34m\u001b[0m\u001b[0;34m\u001b[0m\u001b[0m\n",
            "\u001b[0;32m/usr/local/lib/python3.11/dist-packages/evaluate/module.py\u001b[0m in \u001b[0;36mcompute\u001b[0;34m(self, predictions, references, **kwargs)\u001b[0m\n\u001b[1;32m    465\u001b[0m             \u001b[0minputs\u001b[0m \u001b[0;34m=\u001b[0m \u001b[0;34m{\u001b[0m\u001b[0minput_name\u001b[0m\u001b[0;34m:\u001b[0m \u001b[0mself\u001b[0m\u001b[0;34m.\u001b[0m\u001b[0mdata\u001b[0m\u001b[0;34m[\u001b[0m\u001b[0minput_name\u001b[0m\u001b[0;34m]\u001b[0m \u001b[0;32mfor\u001b[0m \u001b[0minput_name\u001b[0m \u001b[0;32min\u001b[0m \u001b[0mself\u001b[0m\u001b[0;34m.\u001b[0m\u001b[0m_feature_names\u001b[0m\u001b[0;34m(\u001b[0m\u001b[0;34m)\u001b[0m\u001b[0;34m}\u001b[0m\u001b[0;34m\u001b[0m\u001b[0;34m\u001b[0m\u001b[0m\n\u001b[1;32m    466\u001b[0m             \u001b[0;32mwith\u001b[0m \u001b[0mtemp_seed\u001b[0m\u001b[0;34m(\u001b[0m\u001b[0mself\u001b[0m\u001b[0;34m.\u001b[0m\u001b[0mseed\u001b[0m\u001b[0;34m)\u001b[0m\u001b[0;34m:\u001b[0m\u001b[0;34m\u001b[0m\u001b[0;34m\u001b[0m\u001b[0m\n\u001b[0;32m--> 467\u001b[0;31m                 \u001b[0moutput\u001b[0m \u001b[0;34m=\u001b[0m \u001b[0mself\u001b[0m\u001b[0;34m.\u001b[0m\u001b[0m_compute\u001b[0m\u001b[0;34m(\u001b[0m\u001b[0;34m**\u001b[0m\u001b[0minputs\u001b[0m\u001b[0;34m,\u001b[0m \u001b[0;34m**\u001b[0m\u001b[0mcompute_kwargs\u001b[0m\u001b[0;34m)\u001b[0m\u001b[0;34m\u001b[0m\u001b[0;34m\u001b[0m\u001b[0m\n\u001b[0m\u001b[1;32m    468\u001b[0m \u001b[0;34m\u001b[0m\u001b[0m\n\u001b[1;32m    469\u001b[0m             \u001b[0;32mif\u001b[0m \u001b[0mself\u001b[0m\u001b[0;34m.\u001b[0m\u001b[0mbuf_writer\u001b[0m \u001b[0;32mis\u001b[0m \u001b[0;32mnot\u001b[0m \u001b[0;32mNone\u001b[0m\u001b[0;34m:\u001b[0m\u001b[0;34m\u001b[0m\u001b[0;34m\u001b[0m\u001b[0m\n",
            "\u001b[0;32m~/.cache/huggingface/modules/evaluate_modules/metrics/evaluate-metric--meteor/e7ed321a1b44c34fa4679192809db2cee7e3bd4bba0fe8b76061d807706c2374/meteor.py\u001b[0m in \u001b[0;36m_compute\u001b[0;34m(self, predictions, references, alpha, beta, gamma)\u001b[0m\n\u001b[1;32m    144\u001b[0m                 ]\n\u001b[1;32m    145\u001b[0m             \u001b[0;32melse\u001b[0m\u001b[0;34m:\u001b[0m\u001b[0;34m\u001b[0m\u001b[0;34m\u001b[0m\u001b[0m\n\u001b[0;32m--> 146\u001b[0;31m                 scores = [\n\u001b[0m\u001b[1;32m    147\u001b[0m                     meteor_score.single_meteor_score(\n\u001b[1;32m    148\u001b[0m                         \u001b[0mword_tokenize\u001b[0m\u001b[0;34m(\u001b[0m\u001b[0mref\u001b[0m\u001b[0;34m)\u001b[0m\u001b[0;34m,\u001b[0m \u001b[0mword_tokenize\u001b[0m\u001b[0;34m(\u001b[0m\u001b[0mpred\u001b[0m\u001b[0;34m)\u001b[0m\u001b[0;34m,\u001b[0m \u001b[0malpha\u001b[0m\u001b[0;34m=\u001b[0m\u001b[0malpha\u001b[0m\u001b[0;34m,\u001b[0m \u001b[0mbeta\u001b[0m\u001b[0;34m=\u001b[0m\u001b[0mbeta\u001b[0m\u001b[0;34m,\u001b[0m \u001b[0mgamma\u001b[0m\u001b[0;34m=\u001b[0m\u001b[0mgamma\u001b[0m\u001b[0;34m\u001b[0m\u001b[0;34m\u001b[0m\u001b[0m\n",
            "\u001b[0;32m~/.cache/huggingface/modules/evaluate_modules/metrics/evaluate-metric--meteor/e7ed321a1b44c34fa4679192809db2cee7e3bd4bba0fe8b76061d807706c2374/meteor.py\u001b[0m in \u001b[0;36m<listcomp>\u001b[0;34m(.0)\u001b[0m\n\u001b[1;32m    145\u001b[0m             \u001b[0;32melse\u001b[0m\u001b[0;34m:\u001b[0m\u001b[0;34m\u001b[0m\u001b[0;34m\u001b[0m\u001b[0m\n\u001b[1;32m    146\u001b[0m                 scores = [\n\u001b[0;32m--> 147\u001b[0;31m                     meteor_score.single_meteor_score(\n\u001b[0m\u001b[1;32m    148\u001b[0m                         \u001b[0mword_tokenize\u001b[0m\u001b[0;34m(\u001b[0m\u001b[0mref\u001b[0m\u001b[0;34m)\u001b[0m\u001b[0;34m,\u001b[0m \u001b[0mword_tokenize\u001b[0m\u001b[0;34m(\u001b[0m\u001b[0mpred\u001b[0m\u001b[0;34m)\u001b[0m\u001b[0;34m,\u001b[0m \u001b[0malpha\u001b[0m\u001b[0;34m=\u001b[0m\u001b[0malpha\u001b[0m\u001b[0;34m,\u001b[0m \u001b[0mbeta\u001b[0m\u001b[0;34m=\u001b[0m\u001b[0mbeta\u001b[0m\u001b[0;34m,\u001b[0m \u001b[0mgamma\u001b[0m\u001b[0;34m=\u001b[0m\u001b[0mgamma\u001b[0m\u001b[0;34m\u001b[0m\u001b[0;34m\u001b[0m\u001b[0m\n\u001b[1;32m    149\u001b[0m                     )\n",
            "\u001b[0;32m/usr/local/lib/python3.11/dist-packages/nltk/translate/meteor_score.py\u001b[0m in \u001b[0;36msingle_meteor_score\u001b[0;34m(reference, hypothesis, preprocess, stemmer, wordnet, alpha, beta, gamma)\u001b[0m\n\u001b[1;32m    329\u001b[0m     \u001b[0mtranslation_length\u001b[0m \u001b[0;34m=\u001b[0m \u001b[0mlen\u001b[0m\u001b[0;34m(\u001b[0m\u001b[0menum_hypothesis\u001b[0m\u001b[0;34m)\u001b[0m\u001b[0;34m\u001b[0m\u001b[0;34m\u001b[0m\u001b[0m\n\u001b[1;32m    330\u001b[0m     \u001b[0mreference_length\u001b[0m \u001b[0;34m=\u001b[0m \u001b[0mlen\u001b[0m\u001b[0;34m(\u001b[0m\u001b[0menum_reference\u001b[0m\u001b[0;34m)\u001b[0m\u001b[0;34m\u001b[0m\u001b[0;34m\u001b[0m\u001b[0m\n\u001b[0;32m--> 331\u001b[0;31m     matches, _, _ = _enum_align_words(\n\u001b[0m\u001b[1;32m    332\u001b[0m         \u001b[0menum_hypothesis\u001b[0m\u001b[0;34m,\u001b[0m \u001b[0menum_reference\u001b[0m\u001b[0;34m,\u001b[0m \u001b[0mstemmer\u001b[0m\u001b[0;34m=\u001b[0m\u001b[0mstemmer\u001b[0m\u001b[0;34m,\u001b[0m \u001b[0mwordnet\u001b[0m\u001b[0;34m=\u001b[0m\u001b[0mwordnet\u001b[0m\u001b[0;34m\u001b[0m\u001b[0;34m\u001b[0m\u001b[0m\n\u001b[1;32m    333\u001b[0m     )\n",
            "\u001b[0;32m/usr/local/lib/python3.11/dist-packages/nltk/translate/meteor_score.py\u001b[0m in \u001b[0;36m_enum_align_words\u001b[0;34m(enum_hypothesis_list, enum_reference_list, stemmer, wordnet)\u001b[0m\n\u001b[1;32m    221\u001b[0m     )\n\u001b[1;32m    222\u001b[0m \u001b[0;34m\u001b[0m\u001b[0m\n\u001b[0;32m--> 223\u001b[0;31m     wns_matches, enum_hypothesis_list, enum_reference_list = _enum_wordnetsyn_match(\n\u001b[0m\u001b[1;32m    224\u001b[0m         \u001b[0menum_hypothesis_list\u001b[0m\u001b[0;34m,\u001b[0m \u001b[0menum_reference_list\u001b[0m\u001b[0;34m,\u001b[0m \u001b[0mwordnet\u001b[0m\u001b[0;34m=\u001b[0m\u001b[0mwordnet\u001b[0m\u001b[0;34m\u001b[0m\u001b[0;34m\u001b[0m\u001b[0m\n\u001b[1;32m    225\u001b[0m     )\n",
            "\u001b[0;32m/usr/local/lib/python3.11/dist-packages/nltk/translate/meteor_score.py\u001b[0m in \u001b[0;36m_enum_wordnetsyn_match\u001b[0;34m(enum_hypothesis_list, enum_reference_list, wordnet)\u001b[0m\n\u001b[1;32m    159\u001b[0m                     \u001b[0;32mif\u001b[0m \u001b[0mlemma\u001b[0m\u001b[0;34m.\u001b[0m\u001b[0mname\u001b[0m\u001b[0;34m(\u001b[0m\u001b[0;34m)\u001b[0m\u001b[0;34m.\u001b[0m\u001b[0mfind\u001b[0m\u001b[0;34m(\u001b[0m\u001b[0;34m\"_\"\u001b[0m\u001b[0;34m)\u001b[0m \u001b[0;34m<\u001b[0m \u001b[0;36m0\u001b[0m\u001b[0;34m\u001b[0m\u001b[0;34m\u001b[0m\u001b[0m\n\u001b[1;32m    160\u001b[0m                 )\n\u001b[0;32m--> 161\u001b[0;31m                 \u001b[0;32mfor\u001b[0m \u001b[0msynset\u001b[0m \u001b[0;32min\u001b[0m \u001b[0mwordnet\u001b[0m\u001b[0;34m.\u001b[0m\u001b[0msynsets\u001b[0m\u001b[0;34m(\u001b[0m\u001b[0menum_hypothesis_list\u001b[0m\u001b[0;34m[\u001b[0m\u001b[0mi\u001b[0m\u001b[0;34m]\u001b[0m\u001b[0;34m[\u001b[0m\u001b[0;36m1\u001b[0m\u001b[0;34m]\u001b[0m\u001b[0;34m)\u001b[0m\u001b[0;34m\u001b[0m\u001b[0;34m\u001b[0m\u001b[0m\n\u001b[0m\u001b[1;32m    162\u001b[0m             )\n\u001b[1;32m    163\u001b[0m         ).union({enum_hypothesis_list[i][1]})\n",
            "\u001b[0;32m/usr/local/lib/python3.11/dist-packages/nltk/corpus/reader/wordnet.py\u001b[0m in \u001b[0;36msynsets\u001b[0;34m(self, lemma, pos, lang, check_exceptions)\u001b[0m\n\u001b[1;32m   1770\u001b[0m             \u001b[0;32mif\u001b[0m \u001b[0mpos\u001b[0m \u001b[0;32mis\u001b[0m \u001b[0;32mNone\u001b[0m\u001b[0;34m:\u001b[0m\u001b[0;34m\u001b[0m\u001b[0;34m\u001b[0m\u001b[0m\n\u001b[1;32m   1771\u001b[0m                 \u001b[0mpos\u001b[0m \u001b[0;34m=\u001b[0m \u001b[0mPOS_LIST\u001b[0m\u001b[0;34m\u001b[0m\u001b[0;34m\u001b[0m\u001b[0m\n\u001b[0;32m-> 1772\u001b[0;31m             return [\n\u001b[0m\u001b[1;32m   1773\u001b[0m                 \u001b[0mget_synset\u001b[0m\u001b[0;34m(\u001b[0m\u001b[0mp\u001b[0m\u001b[0;34m,\u001b[0m \u001b[0moffset\u001b[0m\u001b[0;34m)\u001b[0m\u001b[0;34m\u001b[0m\u001b[0;34m\u001b[0m\u001b[0m\n\u001b[1;32m   1774\u001b[0m                 \u001b[0;32mfor\u001b[0m \u001b[0mp\u001b[0m \u001b[0;32min\u001b[0m \u001b[0mpos\u001b[0m\u001b[0;34m\u001b[0m\u001b[0;34m\u001b[0m\u001b[0m\n",
            "\u001b[0;32m/usr/local/lib/python3.11/dist-packages/nltk/corpus/reader/wordnet.py\u001b[0m in \u001b[0;36m<listcomp>\u001b[0;34m(.0)\u001b[0m\n\u001b[1;32m   1773\u001b[0m                 \u001b[0mget_synset\u001b[0m\u001b[0;34m(\u001b[0m\u001b[0mp\u001b[0m\u001b[0;34m,\u001b[0m \u001b[0moffset\u001b[0m\u001b[0;34m)\u001b[0m\u001b[0;34m\u001b[0m\u001b[0;34m\u001b[0m\u001b[0m\n\u001b[1;32m   1774\u001b[0m                 \u001b[0;32mfor\u001b[0m \u001b[0mp\u001b[0m \u001b[0;32min\u001b[0m \u001b[0mpos\u001b[0m\u001b[0;34m\u001b[0m\u001b[0;34m\u001b[0m\u001b[0m\n\u001b[0;32m-> 1775\u001b[0;31m                 \u001b[0;32mfor\u001b[0m \u001b[0mform\u001b[0m \u001b[0;32min\u001b[0m \u001b[0mself\u001b[0m\u001b[0;34m.\u001b[0m\u001b[0m_morphy\u001b[0m\u001b[0;34m(\u001b[0m\u001b[0mlemma\u001b[0m\u001b[0;34m,\u001b[0m \u001b[0mp\u001b[0m\u001b[0;34m,\u001b[0m \u001b[0mcheck_exceptions\u001b[0m\u001b[0;34m)\u001b[0m\u001b[0;34m\u001b[0m\u001b[0;34m\u001b[0m\u001b[0m\n\u001b[0m\u001b[1;32m   1776\u001b[0m                 \u001b[0;32mfor\u001b[0m \u001b[0moffset\u001b[0m \u001b[0;32min\u001b[0m \u001b[0mindex\u001b[0m\u001b[0;34m[\u001b[0m\u001b[0mform\u001b[0m\u001b[0;34m]\u001b[0m\u001b[0;34m.\u001b[0m\u001b[0mget\u001b[0m\u001b[0;34m(\u001b[0m\u001b[0mp\u001b[0m\u001b[0;34m,\u001b[0m \u001b[0;34m[\u001b[0m\u001b[0;34m]\u001b[0m\u001b[0;34m)\u001b[0m\u001b[0;34m\u001b[0m\u001b[0;34m\u001b[0m\u001b[0m\n\u001b[1;32m   1777\u001b[0m             ]\n",
            "\u001b[0;32m/usr/local/lib/python3.11/dist-packages/nltk/corpus/reader/wordnet.py\u001b[0m in \u001b[0;36m_morphy\u001b[0;34m(self, form, pos, check_exceptions)\u001b[0m\n\u001b[1;32m   2104\u001b[0m         \u001b[0;32melse\u001b[0m\u001b[0;34m:\u001b[0m\u001b[0;34m\u001b[0m\u001b[0;34m\u001b[0m\u001b[0m\n\u001b[1;32m   2105\u001b[0m             \u001b[0;31m# 1. Apply rules once to the input to get y1, y2, y3, etc.\u001b[0m\u001b[0;34m\u001b[0m\u001b[0;34m\u001b[0m\u001b[0m\n\u001b[0;32m-> 2106\u001b[0;31m             \u001b[0mforms\u001b[0m \u001b[0;34m=\u001b[0m \u001b[0mapply_rules\u001b[0m\u001b[0;34m(\u001b[0m\u001b[0;34m[\u001b[0m\u001b[0mform\u001b[0m\u001b[0;34m]\u001b[0m\u001b[0;34m)\u001b[0m\u001b[0;34m\u001b[0m\u001b[0;34m\u001b[0m\u001b[0m\n\u001b[0m\u001b[1;32m   2107\u001b[0m \u001b[0;34m\u001b[0m\u001b[0m\n\u001b[1;32m   2108\u001b[0m         \u001b[0;31m# 2. Return all that are in the database (and check the original too)\u001b[0m\u001b[0;34m\u001b[0m\u001b[0;34m\u001b[0m\u001b[0m\n",
            "\u001b[0;32m/usr/local/lib/python3.11/dist-packages/nltk/corpus/reader/wordnet.py\u001b[0m in \u001b[0;36mapply_rules\u001b[0;34m(forms)\u001b[0m\n\u001b[1;32m   2081\u001b[0m \u001b[0;34m\u001b[0m\u001b[0m\n\u001b[1;32m   2082\u001b[0m         \u001b[0;32mdef\u001b[0m \u001b[0mapply_rules\u001b[0m\u001b[0;34m(\u001b[0m\u001b[0mforms\u001b[0m\u001b[0;34m)\u001b[0m\u001b[0;34m:\u001b[0m\u001b[0;34m\u001b[0m\u001b[0;34m\u001b[0m\u001b[0m\n\u001b[0;32m-> 2083\u001b[0;31m             return [\n\u001b[0m\u001b[1;32m   2084\u001b[0m                 \u001b[0mform\u001b[0m\u001b[0;34m[\u001b[0m\u001b[0;34m:\u001b[0m \u001b[0;34m-\u001b[0m\u001b[0mlen\u001b[0m\u001b[0;34m(\u001b[0m\u001b[0mold\u001b[0m\u001b[0;34m)\u001b[0m\u001b[0;34m]\u001b[0m \u001b[0;34m+\u001b[0m \u001b[0mnew\u001b[0m\u001b[0;34m\u001b[0m\u001b[0;34m\u001b[0m\u001b[0m\n\u001b[1;32m   2085\u001b[0m                 \u001b[0;32mfor\u001b[0m \u001b[0mform\u001b[0m \u001b[0;32min\u001b[0m \u001b[0mforms\u001b[0m\u001b[0;34m\u001b[0m\u001b[0;34m\u001b[0m\u001b[0m\n",
            "\u001b[0;32m/usr/local/lib/python3.11/dist-packages/nltk/corpus/reader/wordnet.py\u001b[0m in \u001b[0;36m<listcomp>\u001b[0;34m(.0)\u001b[0m\n\u001b[1;32m   2085\u001b[0m                 \u001b[0;32mfor\u001b[0m \u001b[0mform\u001b[0m \u001b[0;32min\u001b[0m \u001b[0mforms\u001b[0m\u001b[0;34m\u001b[0m\u001b[0;34m\u001b[0m\u001b[0m\n\u001b[1;32m   2086\u001b[0m                 \u001b[0;32mfor\u001b[0m \u001b[0mold\u001b[0m\u001b[0;34m,\u001b[0m \u001b[0mnew\u001b[0m \u001b[0;32min\u001b[0m \u001b[0msubstitutions\u001b[0m\u001b[0;34m\u001b[0m\u001b[0;34m\u001b[0m\u001b[0m\n\u001b[0;32m-> 2087\u001b[0;31m                 \u001b[0;32mif\u001b[0m \u001b[0mform\u001b[0m\u001b[0;34m.\u001b[0m\u001b[0mendswith\u001b[0m\u001b[0;34m(\u001b[0m\u001b[0mold\u001b[0m\u001b[0;34m)\u001b[0m\u001b[0;34m\u001b[0m\u001b[0;34m\u001b[0m\u001b[0m\n\u001b[0m\u001b[1;32m   2088\u001b[0m             ]\n\u001b[1;32m   2089\u001b[0m \u001b[0;34m\u001b[0m\u001b[0m\n",
            "\u001b[0;31mKeyboardInterrupt\u001b[0m: "
          ]
        }
      ],
      "source": [
        "# Calculate metrics for each system and language pair\n",
        "results = {}\n",
        "\n",
        "for system_name, paths in dictionaries_direct.items():\n",
        "    results[system_name] = {}\n",
        "\n",
        "    # Finnish translations\n",
        "    with open(paths[\"finnish\"], \"rb\") as f:\n",
        "        finnish_translations = pickle.load(f)\n",
        "    results[system_name][\"finnish\"] = calculate_metrics(finnish_translations, he_fi_reference)\n",
        "\n",
        "    # Ukrainian translations\n",
        "    with open(paths[\"ukrainian\"], \"rb\") as f:\n",
        "        ukrainian_translations = pickle.load(f)\n",
        "    results[system_name][\"ukrainian\"] = calculate_metrics(ukrainian_translations, he_uk_reference)\n"
      ]
    },
    {
      "cell_type": "code",
      "execution_count": null,
      "metadata": {
        "id": "n-3J19fYr9Os",
        "outputId": "ad452a24-57b2-40c6-ada0-bdcb01ad5356"
      },
      "outputs": [
        {
          "name": "stdout",
          "output_type": "stream",
          "text": [
            "\n",
            "NLLB-200 Results:\n",
            "Finnish:\n",
            "  BLEU: 5.9774\n",
            "  METEOR: 0.3336\n",
            "  COMET: 0.7841\n",
            "Ukrainian:\n",
            "  BLEU: 12.2693\n",
            "  METEOR: 0.3658\n",
            "  COMET: 0.7754\n",
            "\n",
            "Helsinki Results:\n",
            "Finnish:\n",
            "  BLEU: 10.1798\n",
            "  METEOR: 0.3561\n",
            "  COMET: 0.8183\n",
            "Ukrainian:\n",
            "  BLEU: 15.3091\n",
            "  METEOR: 0.3850\n",
            "  COMET: 0.7650\n",
            "\n",
            "Google Results:\n",
            "Finnish:\n",
            "  BLEU: 8.6004\n",
            "  METEOR: 0.4141\n",
            "  COMET: 0.8537\n",
            "Ukrainian:\n",
            "  BLEU: 24.3621\n",
            "  METEOR: 0.4164\n",
            "  COMET: 0.8400\n",
            "\n",
            "Llama Results:\n",
            "Finnish:\n",
            "  BLEU: 5.4674\n",
            "  METEOR: 0.2903\n",
            "  COMET: 0.7664\n",
            "Ukrainian:\n",
            "  BLEU: 10.6909\n",
            "  METEOR: 0.3216\n",
            "  COMET: 0.7776\n"
          ]
        }
      ],
      "source": [
        "for system_name, scores in results.items():\n",
        "    print(f\"\\n{system_name} Results:\")\n",
        "    print(\"Finnish:\")\n",
        "    for metric, score in scores[\"finnish\"].items():\n",
        "        print(f\"  {metric}: {score:.4f}\")\n",
        "    print(\"Ukrainian:\")\n",
        "    for metric, score in scores[\"ukrainian\"].items():\n",
        "        print(f\"  {metric}: {score:.4f}\")"
      ]
    },
    {
      "cell_type": "code",
      "execution_count": null,
      "metadata": {
        "id": "5ZKGnVd2r9Os"
      },
      "outputs": [],
      "source": [
        "\n",
        "# Load the dictionaries\n",
        "dictionaries_pivot = {\n",
        "    \"NLLB-200\": {\n",
        "        \"finnish\": \"/home/shirmash/research_methods/translations/he_fi_dict_nllb_200_pivot.pkl\",\n",
        "        \"ukrainian\": \"/home/shirmash/research_methods/translations/he_uk_dict_nllb_200_pivot.pkl\"\n",
        "    },\n",
        "    \"Helsinki\": {\n",
        "        \"finnish\": \"/home/shirmash/research_methods/translations/he_fi_dict_helsinki_pivot.pkl\",\n",
        "        \"ukrainian\": \"/home/shirmash/research_methods/translations/he_uk_dict_helsinki_pivot.pkl\"\n",
        "    },\n",
        "    \"Google\": {\n",
        "        \"finnish\": \"/home/shirmash/research_methods/translations/he_fi_dict_google_pivot.pkl\",\n",
        "        \"ukrainian\": \"/home/shirmash/research_methods/translations/he_uk_dict_google_pivot.pkl\"\n",
        "    },\n",
        "    \"Llama\": {\n",
        "        \"finnish\": \"/home/shirmash/research_methods/translations/he_fi_dict_llama3_pivot.pkl\",\n",
        "        \"ukrainian\": \"/home/shirmash/research_methods/translations/he_uk_dict_llama3_pivot.pkl\"\n",
        "    }\n",
        "}"
      ]
    },
    {
      "cell_type": "code",
      "execution_count": null,
      "metadata": {
        "id": "Dv5iOBXgr9Ot"
      },
      "outputs": [],
      "source": [
        "# Calculate metrics for each system and language pair\n",
        "results = {}\n",
        "\n",
        "for system_name, paths in dictionaries_pivot.items():\n",
        "    results[system_name] = {}\n",
        "\n",
        "    # Finnish translations\n",
        "    with open(paths[\"finnish\"], \"rb\") as f:\n",
        "        finnish_translations = pickle.load(f)\n",
        "    results[system_name][\"finnish\"] = calculate_metrics(finnish_translations, he_fi_reference)\n",
        "\n",
        "    # Ukrainian translations\n",
        "    with open(paths[\"ukrainian\"], \"rb\") as f:\n",
        "        ukrainian_translations = pickle.load(f)\n",
        "    results[system_name][\"ukrainian\"] = calculate_metrics(ukrainian_translations, he_uk_reference)\n",
        "\n",
        "# Print results\n",
        "for system_name, scores in results.items():\n",
        "    print(f\"\\n{system_name} Results:\")\n",
        "    print(\"Finnish:\")\n",
        "    for metric, score in scores[\"finnish\"].items():\n",
        "        print(f\"  {metric}: {score:.4f}\")\n",
        "    print(\"Ukrainian:\")\n",
        "    for metric, score in scores[\"ukrainian\"].items():\n",
        "        print(f\"  {metric}: {score:.4f}\")"
      ]
    },
    {
      "cell_type": "markdown",
      "source": [
        "# ***calculate t-test***"
      ],
      "metadata": {
        "id": "O1sy6k9wodDk"
      }
    },
    {
      "cell_type": "code",
      "source": [
        "\n",
        "# base translation dict\n",
        "with open(\"/content/drive/MyDrive/research_methods/results/final_he_fi_dict.pkl\", \"rb\") as f:\n",
        "    he_fi_reference = pickle.load(f)\n",
        "\n",
        "with open(\"/content/drive/MyDrive/research_methods/results/final_he_uk_dict.pkl\", \"rb\") as f:\n",
        "    he_uk_reference = pickle.load(f)\n",
        "\n"
      ],
      "metadata": {
        "id": "MidB6cr8Faf2"
      },
      "execution_count": null,
      "outputs": []
    },
    {
      "cell_type": "code",
      "source": [
        "from scipy.stats import ttest_rel"
      ],
      "metadata": {
        "id": "fpvF2Mcf0Gud"
      },
      "execution_count": null,
      "outputs": []
    },
    {
      "cell_type": "code",
      "source": [
        "\n",
        "# Load the dictionaries\n",
        "dictionaries = {\n",
        "    # \"NLLB-200\": {\n",
        "    #     \"Uk_pivot\": \"/content/drive/MyDrive/research_methods/results/translations/he_uk_dict_nllb_200_pivot.pkl\",\n",
        "    #     \"Uk_direct\": \"/content/drive/MyDrive/research_methods/results/translations/he_uk_dict_nllb_200_direct.pkl\",\n",
        "    # },\n",
        "    # \"Helsinki\": {\n",
        "    #     \"Uk_pivot\": \"/content/drive/MyDrive/research_methods/results/translations/he_uk_dict_helsinki_pivot.pkl\",\n",
        "    #     \"Uk_direct\": \"/content/drive/MyDrive/research_methods/results/translations/he_uk_dict_helsinki_direct.pkl\",\n",
        "    # },\n",
        "    \"Google\": {\n",
        "        \"Uk_pivot\": \"/content/drive/MyDrive/research_methods/results/translations/he_uk_dict_google_pivot.pkl\",\n",
        "        \"Uk_direct\": \"/content/drive/MyDrive/research_methods/results/translations/he_uk_dict_google_direct.pkl\",\n",
        "    },\n",
        "    # \"Llama\": {\n",
        "    #     \"Uk_pivot\": \"/content/drive/MyDrive/research_methods/results/translations/he_uk_dict_llama3_pivot.pkl\",\n",
        "    #     \"Uk_direct\": \"/content/drive/MyDrive/research_methods/results/translations/he_uk_dict_llama3_direct.pkl\",\n",
        "    # }\n",
        "}"
      ],
      "metadata": {
        "id": "rNhrO2hH0Yao"
      },
      "execution_count": null,
      "outputs": []
    },
    {
      "cell_type": "code",
      "source": [
        "meteor = evaluate.load('meteor')"
      ],
      "metadata": {
        "colab": {
          "base_uri": "https://localhost:8080/",
          "height": 249,
          "referenced_widgets": [
            "9b022906ae9e493aa88db195d386cc11",
            "f40d7438abe64235b6f35074b9373507",
            "378c6cbe11744fec98389dfc6c46a708",
            "d72ff2c8c7bc4d27b5408faa18ee9a2e",
            "1a2c8aa8f3624834834b725f4a651280",
            "7908c0df7aa844869c1ba8b83010c5c9",
            "3afd11749e1a48edb7218266465dabd0",
            "d8cb52a4a9fc4751b1a10c5ffcd325c0",
            "e052e2039ee64654948c818a730ce9a6",
            "db3283e3619244bcb8bbd0cc65e21a4e",
            "2385c479d1e8422b9fcc9ab820b6f385"
          ]
        },
        "id": "0WLgZ6V09cAx",
        "outputId": "9f5677cc-011c-4997-fa53-ddf2bebf9876"
      },
      "execution_count": null,
      "outputs": [
        {
          "output_type": "stream",
          "name": "stderr",
          "text": [
            "/usr/local/lib/python3.11/dist-packages/huggingface_hub/utils/_auth.py:94: UserWarning: \n",
            "The secret `HF_TOKEN` does not exist in your Colab secrets.\n",
            "To authenticate with the Hugging Face Hub, create a token in your settings tab (https://huggingface.co/settings/tokens), set it as secret in your Google Colab and restart your session.\n",
            "You will be able to reuse this secret in all of your notebooks.\n",
            "Please note that authentication is recommended but still optional to access public models or datasets.\n",
            "  warnings.warn(\n"
          ]
        },
        {
          "output_type": "display_data",
          "data": {
            "text/plain": [
              "Downloading builder script:   0%|          | 0.00/7.02k [00:00<?, ?B/s]"
            ],
            "application/vnd.jupyter.widget-view+json": {
              "version_major": 2,
              "version_minor": 0,
              "model_id": "9b022906ae9e493aa88db195d386cc11"
            }
          },
          "metadata": {}
        },
        {
          "output_type": "stream",
          "name": "stderr",
          "text": [
            "[nltk_data] Downloading package wordnet to /root/nltk_data...\n",
            "[nltk_data] Downloading package punkt_tab to /root/nltk_data...\n",
            "[nltk_data]   Unzipping tokenizers/punkt_tab.zip.\n",
            "[nltk_data] Downloading package omw-1.4 to /root/nltk_data...\n"
          ]
        }
      ]
    },
    {
      "cell_type": "code",
      "source": [
        "# BLEU!!!\n",
        "def calculate_t_test(translations_direct, translation_pivot, reference_dict):\n",
        "    \"\"\"\n",
        "    Calculate BLEU, METEOR, and COMET scores for translations\n",
        "    \"\"\"\n",
        "    hypotheses_direct = []\n",
        "    hypotheses_pivot = []\n",
        "    references = []\n",
        "\n",
        "    # Extract translations and references\n",
        "    for key in translations_direct:\n",
        "        if key in reference_dict:\n",
        "\n",
        "            hyp_direct = translations_direct[key][1]  #  model translation\n",
        "            hyp_pivot = translation_pivot[key][1]\n",
        "            ref = reference_dict[key][1]     # base translation\n",
        "\n",
        "            ##create list of base and model translations\n",
        "            hypotheses_direct.append(hyp_direct)\n",
        "            hypotheses_pivot.append(hyp_pivot)\n",
        "            references.append([ref])\n",
        "\n",
        "    # Calculate BLEU score\n",
        "    print(sacrebleu.corpus_bleu(hypotheses_direct, references)) ## calculate on all sentences\n",
        "    print(sacrebleu.corpus_bleu(hypotheses_pivot, references)) ## calculate on all sentences\n",
        "    # Calculate sentence-level BLEU scores\n",
        "    direct_bleus = [sacrebleu.sentence_bleu(hyp, refs).score for hyp, refs in zip(hypotheses_direct, references)]\n",
        "    pivot_bleus = [sacrebleu.sentence_bleu(hyp, refs).score for hyp, refs in zip(hypotheses_pivot, references)]\n",
        "    t_stat, p_value = ttest_rel(direct_bleus, pivot_bleus)\n",
        "\n",
        "    print(f\"Direct BLEU scores: {direct_bleus}\")\n",
        "    print(f\"Pivot BLEU scores: {pivot_bleus}\")\n",
        "    print(f\"T-statistic: {t_stat}\")\n",
        "    print(f\"P-value: {p_value}\")\n",
        "\n",
        "    # Interpretation\n",
        "    if p_value < 0.05:\n",
        "        significate = 'significate'\n",
        "        print(\"The difference between Direct and Pivot BLEU scores is statistically significant.\")\n",
        "    else:\n",
        "        print(\"No significant difference between Direct and Pivot BLEU scores.\")\n",
        "        significate = 'No significant'\n",
        "\n",
        "\n",
        "    return {\n",
        "        \"T-statistic\": t_stat,\n",
        "        \"P-value\": p_value,\n",
        "        \"significate\":significate\n",
        "    }"
      ],
      "metadata": {
        "collapsed": true,
        "id": "g-335I5ezDjB"
      },
      "execution_count": null,
      "outputs": []
    },
    {
      "cell_type": "code",
      "source": [
        "results = {}\n",
        "for system_name, paths in dictionaries.items():\n",
        "    results[system_name] = {}\n",
        "\n",
        "    # Finnish translations\n",
        "    with open(paths[\"Uk_direct\"], \"rb\") as f:\n",
        "        uk_translations_direct = pickle.load(f)\n",
        "    with open(paths[\"Uk_pivot\"], \"rb\") as f:\n",
        "        uk_translations_pivot = pickle.load(f)\n",
        "    results[system_name][\"Ukrainian\"] = calculate_t_test(uk_translations_direct, uk_translations_pivot, he_uk_reference)\n",
        "\n",
        "results"
      ],
      "metadata": {
        "colab": {
          "base_uri": "https://localhost:8080/"
        },
        "collapsed": true,
        "id": "_4aUsMhn0VNw",
        "outputId": "ab171317-7574-4e0f-dfec-0558d10b7145"
      },
      "execution_count": null,
      "outputs": [
        {
          "output_type": "stream",
          "name": "stdout",
          "text": [
            "BLEU = 11.50 81.6/27.0/5.6/1.4 (BP = 1.000 ratio = 1.000 hyp_len = 38 ref_len = 38)\n",
            "BLEU = 7.79 78.6/14.6/2.5/1.3 (BP = 1.000 ratio = 1.000 hyp_len = 42 ref_len = 42)\n",
            "Direct BLEU scores: 41.62799023755188\n",
            "Pivot BLEU scores: 12.953235551535677\n",
            "T-statistic: -9.74624154073323\n",
            "P-value: 2.147098513806213e-22\n",
            "The difference between Direct and Pivot BLEU scores is statistically significant.\n"
          ]
        },
        {
          "output_type": "execute_result",
          "data": {
            "text/plain": [
              "{'Google': {'Ukrainian': {'T-statistic': -9.74624154073323,\n",
              "   'P-value': 2.147098513806213e-22,\n",
              "   'significate': 'significate'}}}"
            ]
          },
          "metadata": {},
          "execution_count": 254
        }
      ]
    },
    {
      "cell_type": "code",
      "source": [
        "# METEOR!!!!!!!!!!!!!!!!!!!!!!!!!\n",
        "def calculate_t_test(translations_direct, translation_pivot, reference_dict):\n",
        "    \"\"\"\n",
        "    Calculate BLEU, METEOR, and COMET scores for translations\n",
        "    \"\"\"\n",
        "    hypotheses_direct = []\n",
        "    hypotheses_pivot = []\n",
        "    references = []\n",
        "\n",
        "    # Extract translations and references\n",
        "    for key in translations_direct:\n",
        "        if key in reference_dict:\n",
        "\n",
        "            hyp_direct = translations_direct[key][1]  #  model translation\n",
        "            hyp_pivot = translation_pivot[key][1]\n",
        "            ref = reference_dict[key][1]     # base translation\n",
        "\n",
        "            ##create list of base and model translations\n",
        "            hypotheses_direct.append(hyp_direct)\n",
        "            hypotheses_pivot.append(hyp_pivot)\n",
        "            references.append([ref])\n",
        "\n",
        "    direct_meteor_scores = [\n",
        "    meteor.compute(predictions=[hyp], references=[refs])[\"meteor\"]\n",
        "    for hyp, refs in zip(hypotheses_direct, references)\n",
        "    ]\n",
        "\n",
        "    pivot_meteor_scores = [\n",
        "    meteor.compute(predictions=[hyp], references=[refs])[\"meteor\"]\n",
        "    for hyp, refs in zip(hypotheses_pivot, references)\n",
        "    ]\n",
        "\n",
        "    t_stat, p_value = ttest_rel(direct_meteor_scores, pivot_meteor_scores)\n",
        "\n",
        "    print(f\"Direct METEOR scores: {direct_meteor_scores[46]}\")\n",
        "    print(f\"Pivot METEOR scores: {pivot_meteor_scores[46]}\")\n",
        "    print(f\"T-statistic: {t_stat}\")\n",
        "    print(f\"P-value: {p_value}\")\n",
        "\n",
        "    # Interpretation\n",
        "    if p_value < 0.05:\n",
        "        significate = 'significate'\n",
        "        print(\"The difference between Direct and Pivot METEOR scores is statistically significant.\")\n",
        "    else:\n",
        "        print(\"No significant difference between Direct and Pivot METEOR scores.\")\n",
        "        significate = 'No significant'\n",
        "\n",
        "\n",
        "    return {\n",
        "        \"T-statistic\": t_stat,\n",
        "        \"P-value\": p_value,\n",
        "        \"significate\":significate\n",
        "    }"
      ],
      "metadata": {
        "id": "BrJLhUoWTKv8"
      },
      "execution_count": null,
      "outputs": []
    },
    {
      "cell_type": "code",
      "source": [
        "results = {}\n",
        "for system_name, paths in dictionaries.items():\n",
        "    results[system_name] = {}\n",
        "\n",
        "    # Finnish translations\n",
        "    with open(paths[\"Uk_direct\"], \"rb\") as f:\n",
        "        uk_translations_direct = pickle.load(f)\n",
        "    with open(paths[\"Uk_pivot\"], \"rb\") as f:\n",
        "        uk_translations_pivot = pickle.load(f)\n",
        "    results[system_name][\"Ukrainian\"] = calculate_t_test(uk_translations_direct, uk_translations_pivot, he_fi_reference)\n",
        "results"
      ],
      "metadata": {
        "id": "IlbwfYyqpWej",
        "colab": {
          "base_uri": "https://localhost:8080/"
        },
        "outputId": "d486fcf4-c26a-4332-c712-163ed1d2692a"
      },
      "execution_count": null,
      "outputs": [
        {
          "output_type": "stream",
          "name": "stdout",
          "text": [
            "Direct METEOR scores: 0.5327181208053692\n",
            "Pivot METEOR scores: 0.4619272516364239\n",
            "T-statistic: -9.338762324431388\n",
            "P-value: 1.073913882037986e-20\n",
            "The difference between Direct and Pivot METEOR scores is statistically significant.\n"
          ]
        },
        {
          "output_type": "execute_result",
          "data": {
            "text/plain": [
              "{'Google': {'Ukrainian': {'T-statistic': -9.338762324431388,\n",
              "   'P-value': 1.073913882037986e-20,\n",
              "   'significate': 'significate'}}}"
            ]
          },
          "metadata": {},
          "execution_count": 10
        }
      ]
    },
    {
      "cell_type": "code",
      "source": [
        "\n",
        "# COMET!!!!!!!!!!!!!!!!!\n",
        "def calculate_t_test(translations_direct, translation_pivot, reference_dict):\n",
        "    # Prepare data for COMET\n",
        "    model_path = download_model(\"Unbabel/wmt22-comet-da\")\n",
        "    model = load_from_checkpoint(model_path)\n",
        "\n",
        "    # Prepare data for COMET\n",
        "    comet_data_direct = [\n",
        "        {\n",
        "            \"src\": translations_direct[key][0],  # Source text\n",
        "            \"mt\": translations_direct[key][1],   # model translation\n",
        "            \"ref\": reference_dict[key][1]      # base translation\n",
        "        }\n",
        "        for key in translations_direct if key in reference_dict\n",
        "    ]\n",
        "\n",
        "    comet_data_pivot = [\n",
        "        {\n",
        "            \"src\": translation_pivot[key][0],  # Source text\n",
        "            \"mt\": translation_pivot[key][1],   # model translation\n",
        "            \"ref\": reference_dict[key][1]      # base translation\n",
        "        }\n",
        "        for key in translation_pivot if key in reference_dict\n",
        "    ]\n",
        "\n",
        "    direct_scores = model.predict(comet_data_direct, batch_size=8, gpus=1)[\"scores\"]\n",
        "    pivot_scores = model.predict(comet_data_pivot, batch_size=8, gpus=1)[\"scores\"]\n",
        "\n",
        "    t_stat, p_value = ttest_rel(direct_scores, pivot_scores)\n",
        "\n",
        "    print(f\"Direct COMET scores: {direct_scores}\")\n",
        "    print(f\"Pivot COMET scores: {pivot_scores}\")\n",
        "    print(f\"T-statistic: {t_stat}\")\n",
        "    print(f\"P-value: {p_value}\")\n",
        "\n",
        "    # Interpretation\n",
        "    if p_value < 0.05:\n",
        "        significate = 'significate'\n",
        "        print(\"The difference between Direct and Pivot COMET scores is statistically significant.\")\n",
        "    else:\n",
        "        print(\"No significant difference between Direct and Pivot COMET scores.\")\n",
        "        significate = 'No significant'\n",
        "\n",
        "\n",
        "    return {\n",
        "        \"T-statistic\": t_stat,\n",
        "        \"P-value\": p_value,\n",
        "        \"significate\":significate\n",
        "    }\n"
      ],
      "metadata": {
        "id": "xFIVJKJandMr"
      },
      "execution_count": null,
      "outputs": []
    },
    {
      "cell_type": "code",
      "source": [
        "results = {}\n",
        "for system_name, paths in dictionaries.items():\n",
        "    results[system_name] = {}\n",
        "\n",
        "    # Finnish translations\n",
        "    with open(paths[\"Uk_direct\"], \"rb\") as f:\n",
        "        uk_translations_direct = pickle.load(f)\n",
        "    with open(paths[\"Uk_pivot\"], \"rb\") as f:\n",
        "        uk_translations_pivot = pickle.load(f)\n",
        "    results[system_name][\"Ukrainian\"] = calculate_t_test(uk_translations_direct, uk_translations_pivot, he_uk_reference)\n",
        "results"
      ],
      "metadata": {
        "id": "HbKhsQkIp07j"
      },
      "execution_count": null,
      "outputs": []
    },
    {
      "cell_type": "markdown",
      "source": [
        "# print sentences"
      ],
      "metadata": {
        "id": "AgAoKCX9LN5O"
      }
    },
    {
      "cell_type": "code",
      "source": [
        "import pickle"
      ],
      "metadata": {
        "id": "kk-0SnxKM4_F"
      },
      "execution_count": null,
      "outputs": []
    },
    {
      "cell_type": "code",
      "source": [
        "\n",
        "# Load the dictionaries\n",
        "dictionaries_direct = {\n",
        "    \"Google\": {\n",
        "        \"uk_pivot\": \"/content/drive/MyDrive/research_methods/results/translations/he_uk_dict_google_pivot.pkl\",\n",
        "        \"uk_direct\": \"/content/drive/MyDrive/research_methods/results/translations/he_uk_dict_google_direct.pkl\",\n",
        "    }\n",
        "}"
      ],
      "metadata": {
        "id": "Q-eJ-MERM8fC"
      },
      "execution_count": null,
      "outputs": []
    },
    {
      "cell_type": "code",
      "source": [
        "def print_sentence_example(translations_direct, translation_pivot, reference_dict):\n",
        "    \"\"\"\n",
        "    Calculate BLEU, METEOR, and COMET scores for translations\n",
        "    \"\"\"\n",
        "    hypotheses_direct = []\n",
        "    hypotheses_pivot = []\n",
        "    references = []\n",
        "    count = 0\n",
        "    # Extract translations and references\n",
        "    for key in translations_direct:\n",
        "        if key in reference_dict:\n",
        "\n",
        "            hyp_direct = translations_direct[key][1]  #  model translation\n",
        "            hyp_pivot = translation_pivot[key][1]\n",
        "            ref = reference_dict[key][1]     # base translation\n",
        "            if count == 46:\n",
        "                print(reference_dict[key])\n",
        "                print(translations_direct[key])\n",
        "                print(translation_pivot[key])\n",
        "                break\n",
        "            count+=1\n",
        "\n"
      ],
      "metadata": {
        "id": "AAmom5pLOywD"
      },
      "execution_count": null,
      "outputs": []
    },
    {
      "cell_type": "code",
      "source": [
        "results = {}\n",
        "for system_name, paths in dictionaries_direct.items():\n",
        "    results[system_name] = {}\n",
        "\n",
        "    # Finnish translations\n",
        "    with open(paths[\"uk_direct\"], \"rb\") as f:\n",
        "        uk_translations_direct = pickle.load(f)\n",
        "    with open(paths[\"uk_pivot\"], \"rb\") as f:\n",
        "        uk_translations_pivot = pickle.load(f)\n",
        "    results[system_name][\"uk\"] = print_sentence_example(uk_translations_direct, uk_translations_pivot, he_uk_reference)\n"
      ],
      "metadata": {
        "colab": {
          "base_uri": "https://localhost:8080/"
        },
        "id": "vLUtvzT-O499",
        "outputId": "ecf0ff9c-e76c-4b63-a863-1b72528c0586"
      },
      "execution_count": null,
      "outputs": [
        {
          "output_type": "stream",
          "name": "stdout",
          "text": [
            "[\"אני רוצה שתדעו שאני , אחי ואחותי באמת אוהבים לאכול צ ' יפס כרוב אפוי \", 'Haluan teidän tietävän , että minä , veljeni ja sisareni itse asiassa pidämme paistetuista kaalilastuista ']\n",
            "[\"אני רוצה שתדעו שאני , אחי ואחותי באמת אוהבים לאכול צ ' יפס כרוב אפוי \", 'Haluan sinun tietävän, että minä, veljeni ja siskoni syömme todella mielellään uunikaalialastuja ']\n",
            "[\"אני רוצה שתדעו שאני , אחי ואחותי באמת אוהבים לאכול צ ' יפס כרוב אפוי \", 'Haluan sinun tietävän, että veljeni, sisareni ja minä todella tykkäämme syödä uunikaalialastuja ']\n"
          ]
        }
      ]
    }
  ],
  "metadata": {
    "kernelspec": {
      "display_name": "Python 3",
      "name": "python3"
    },
    "language_info": {
      "codemirror_mode": {
        "name": "ipython",
        "version": 3
      },
      "file_extension": ".py",
      "mimetype": "text/x-python",
      "name": "python",
      "nbconvert_exporter": "python",
      "pygments_lexer": "ipython3",
      "version": "3.9.21"
    },
    "colab": {
      "provenance": [],
      "gpuType": "T4"
    },
    "widgets": {
      "application/vnd.jupyter.widget-state+json": {
        "4f28eda3f4554a989a01b4407535edb0": {
          "model_module": "@jupyter-widgets/controls",
          "model_name": "HBoxModel",
          "model_module_version": "1.5.0",
          "state": {
            "_dom_classes": [],
            "_model_module": "@jupyter-widgets/controls",
            "_model_module_version": "1.5.0",
            "_model_name": "HBoxModel",
            "_view_count": null,
            "_view_module": "@jupyter-widgets/controls",
            "_view_module_version": "1.5.0",
            "_view_name": "HBoxView",
            "box_style": "",
            "children": [
              "IPY_MODEL_65232e87f1134cfd84af690c6d1f76aa",
              "IPY_MODEL_ba3107a842a747e1b245cef931774f68",
              "IPY_MODEL_176b03819a4544598abaf084da07352f"
            ],
            "layout": "IPY_MODEL_33dc29478314416cb181436fd786cfa8"
          }
        },
        "65232e87f1134cfd84af690c6d1f76aa": {
          "model_module": "@jupyter-widgets/controls",
          "model_name": "HTMLModel",
          "model_module_version": "1.5.0",
          "state": {
            "_dom_classes": [],
            "_model_module": "@jupyter-widgets/controls",
            "_model_module_version": "1.5.0",
            "_model_name": "HTMLModel",
            "_view_count": null,
            "_view_module": "@jupyter-widgets/controls",
            "_view_module_version": "1.5.0",
            "_view_name": "HTMLView",
            "description": "",
            "description_tooltip": null,
            "layout": "IPY_MODEL_5163b6a1873843ffbe449aeb9bee4a45",
            "placeholder": "​",
            "style": "IPY_MODEL_24b5d63107474802838ea7b865bd8598",
            "value": "Downloading builder script: 100%"
          }
        },
        "ba3107a842a747e1b245cef931774f68": {
          "model_module": "@jupyter-widgets/controls",
          "model_name": "FloatProgressModel",
          "model_module_version": "1.5.0",
          "state": {
            "_dom_classes": [],
            "_model_module": "@jupyter-widgets/controls",
            "_model_module_version": "1.5.0",
            "_model_name": "FloatProgressModel",
            "_view_count": null,
            "_view_module": "@jupyter-widgets/controls",
            "_view_module_version": "1.5.0",
            "_view_name": "ProgressView",
            "bar_style": "success",
            "description": "",
            "description_tooltip": null,
            "layout": "IPY_MODEL_9f87881c6d4d42308c8f67f38f564f13",
            "max": 7021,
            "min": 0,
            "orientation": "horizontal",
            "style": "IPY_MODEL_a492c3831807466e8f91d2a6a65100b8",
            "value": 7021
          }
        },
        "176b03819a4544598abaf084da07352f": {
          "model_module": "@jupyter-widgets/controls",
          "model_name": "HTMLModel",
          "model_module_version": "1.5.0",
          "state": {
            "_dom_classes": [],
            "_model_module": "@jupyter-widgets/controls",
            "_model_module_version": "1.5.0",
            "_model_name": "HTMLModel",
            "_view_count": null,
            "_view_module": "@jupyter-widgets/controls",
            "_view_module_version": "1.5.0",
            "_view_name": "HTMLView",
            "description": "",
            "description_tooltip": null,
            "layout": "IPY_MODEL_2e88d7a1d09544cd92cf059e1fea5c16",
            "placeholder": "​",
            "style": "IPY_MODEL_29ef102efa0a496f8eb913cc3e207291",
            "value": " 7.02k/7.02k [00:00&lt;00:00, 406kB/s]"
          }
        },
        "33dc29478314416cb181436fd786cfa8": {
          "model_module": "@jupyter-widgets/base",
          "model_name": "LayoutModel",
          "model_module_version": "1.2.0",
          "state": {
            "_model_module": "@jupyter-widgets/base",
            "_model_module_version": "1.2.0",
            "_model_name": "LayoutModel",
            "_view_count": null,
            "_view_module": "@jupyter-widgets/base",
            "_view_module_version": "1.2.0",
            "_view_name": "LayoutView",
            "align_content": null,
            "align_items": null,
            "align_self": null,
            "border": null,
            "bottom": null,
            "display": null,
            "flex": null,
            "flex_flow": null,
            "grid_area": null,
            "grid_auto_columns": null,
            "grid_auto_flow": null,
            "grid_auto_rows": null,
            "grid_column": null,
            "grid_gap": null,
            "grid_row": null,
            "grid_template_areas": null,
            "grid_template_columns": null,
            "grid_template_rows": null,
            "height": null,
            "justify_content": null,
            "justify_items": null,
            "left": null,
            "margin": null,
            "max_height": null,
            "max_width": null,
            "min_height": null,
            "min_width": null,
            "object_fit": null,
            "object_position": null,
            "order": null,
            "overflow": null,
            "overflow_x": null,
            "overflow_y": null,
            "padding": null,
            "right": null,
            "top": null,
            "visibility": null,
            "width": null
          }
        },
        "5163b6a1873843ffbe449aeb9bee4a45": {
          "model_module": "@jupyter-widgets/base",
          "model_name": "LayoutModel",
          "model_module_version": "1.2.0",
          "state": {
            "_model_module": "@jupyter-widgets/base",
            "_model_module_version": "1.2.0",
            "_model_name": "LayoutModel",
            "_view_count": null,
            "_view_module": "@jupyter-widgets/base",
            "_view_module_version": "1.2.0",
            "_view_name": "LayoutView",
            "align_content": null,
            "align_items": null,
            "align_self": null,
            "border": null,
            "bottom": null,
            "display": null,
            "flex": null,
            "flex_flow": null,
            "grid_area": null,
            "grid_auto_columns": null,
            "grid_auto_flow": null,
            "grid_auto_rows": null,
            "grid_column": null,
            "grid_gap": null,
            "grid_row": null,
            "grid_template_areas": null,
            "grid_template_columns": null,
            "grid_template_rows": null,
            "height": null,
            "justify_content": null,
            "justify_items": null,
            "left": null,
            "margin": null,
            "max_height": null,
            "max_width": null,
            "min_height": null,
            "min_width": null,
            "object_fit": null,
            "object_position": null,
            "order": null,
            "overflow": null,
            "overflow_x": null,
            "overflow_y": null,
            "padding": null,
            "right": null,
            "top": null,
            "visibility": null,
            "width": null
          }
        },
        "24b5d63107474802838ea7b865bd8598": {
          "model_module": "@jupyter-widgets/controls",
          "model_name": "DescriptionStyleModel",
          "model_module_version": "1.5.0",
          "state": {
            "_model_module": "@jupyter-widgets/controls",
            "_model_module_version": "1.5.0",
            "_model_name": "DescriptionStyleModel",
            "_view_count": null,
            "_view_module": "@jupyter-widgets/base",
            "_view_module_version": "1.2.0",
            "_view_name": "StyleView",
            "description_width": ""
          }
        },
        "9f87881c6d4d42308c8f67f38f564f13": {
          "model_module": "@jupyter-widgets/base",
          "model_name": "LayoutModel",
          "model_module_version": "1.2.0",
          "state": {
            "_model_module": "@jupyter-widgets/base",
            "_model_module_version": "1.2.0",
            "_model_name": "LayoutModel",
            "_view_count": null,
            "_view_module": "@jupyter-widgets/base",
            "_view_module_version": "1.2.0",
            "_view_name": "LayoutView",
            "align_content": null,
            "align_items": null,
            "align_self": null,
            "border": null,
            "bottom": null,
            "display": null,
            "flex": null,
            "flex_flow": null,
            "grid_area": null,
            "grid_auto_columns": null,
            "grid_auto_flow": null,
            "grid_auto_rows": null,
            "grid_column": null,
            "grid_gap": null,
            "grid_row": null,
            "grid_template_areas": null,
            "grid_template_columns": null,
            "grid_template_rows": null,
            "height": null,
            "justify_content": null,
            "justify_items": null,
            "left": null,
            "margin": null,
            "max_height": null,
            "max_width": null,
            "min_height": null,
            "min_width": null,
            "object_fit": null,
            "object_position": null,
            "order": null,
            "overflow": null,
            "overflow_x": null,
            "overflow_y": null,
            "padding": null,
            "right": null,
            "top": null,
            "visibility": null,
            "width": null
          }
        },
        "a492c3831807466e8f91d2a6a65100b8": {
          "model_module": "@jupyter-widgets/controls",
          "model_name": "ProgressStyleModel",
          "model_module_version": "1.5.0",
          "state": {
            "_model_module": "@jupyter-widgets/controls",
            "_model_module_version": "1.5.0",
            "_model_name": "ProgressStyleModel",
            "_view_count": null,
            "_view_module": "@jupyter-widgets/base",
            "_view_module_version": "1.2.0",
            "_view_name": "StyleView",
            "bar_color": null,
            "description_width": ""
          }
        },
        "2e88d7a1d09544cd92cf059e1fea5c16": {
          "model_module": "@jupyter-widgets/base",
          "model_name": "LayoutModel",
          "model_module_version": "1.2.0",
          "state": {
            "_model_module": "@jupyter-widgets/base",
            "_model_module_version": "1.2.0",
            "_model_name": "LayoutModel",
            "_view_count": null,
            "_view_module": "@jupyter-widgets/base",
            "_view_module_version": "1.2.0",
            "_view_name": "LayoutView",
            "align_content": null,
            "align_items": null,
            "align_self": null,
            "border": null,
            "bottom": null,
            "display": null,
            "flex": null,
            "flex_flow": null,
            "grid_area": null,
            "grid_auto_columns": null,
            "grid_auto_flow": null,
            "grid_auto_rows": null,
            "grid_column": null,
            "grid_gap": null,
            "grid_row": null,
            "grid_template_areas": null,
            "grid_template_columns": null,
            "grid_template_rows": null,
            "height": null,
            "justify_content": null,
            "justify_items": null,
            "left": null,
            "margin": null,
            "max_height": null,
            "max_width": null,
            "min_height": null,
            "min_width": null,
            "object_fit": null,
            "object_position": null,
            "order": null,
            "overflow": null,
            "overflow_x": null,
            "overflow_y": null,
            "padding": null,
            "right": null,
            "top": null,
            "visibility": null,
            "width": null
          }
        },
        "29ef102efa0a496f8eb913cc3e207291": {
          "model_module": "@jupyter-widgets/controls",
          "model_name": "DescriptionStyleModel",
          "model_module_version": "1.5.0",
          "state": {
            "_model_module": "@jupyter-widgets/controls",
            "_model_module_version": "1.5.0",
            "_model_name": "DescriptionStyleModel",
            "_view_count": null,
            "_view_module": "@jupyter-widgets/base",
            "_view_module_version": "1.2.0",
            "_view_name": "StyleView",
            "description_width": ""
          }
        },
        "9b022906ae9e493aa88db195d386cc11": {
          "model_module": "@jupyter-widgets/controls",
          "model_name": "HBoxModel",
          "model_module_version": "1.5.0",
          "state": {
            "_dom_classes": [],
            "_model_module": "@jupyter-widgets/controls",
            "_model_module_version": "1.5.0",
            "_model_name": "HBoxModel",
            "_view_count": null,
            "_view_module": "@jupyter-widgets/controls",
            "_view_module_version": "1.5.0",
            "_view_name": "HBoxView",
            "box_style": "",
            "children": [
              "IPY_MODEL_f40d7438abe64235b6f35074b9373507",
              "IPY_MODEL_378c6cbe11744fec98389dfc6c46a708",
              "IPY_MODEL_d72ff2c8c7bc4d27b5408faa18ee9a2e"
            ],
            "layout": "IPY_MODEL_1a2c8aa8f3624834834b725f4a651280"
          }
        },
        "f40d7438abe64235b6f35074b9373507": {
          "model_module": "@jupyter-widgets/controls",
          "model_name": "HTMLModel",
          "model_module_version": "1.5.0",
          "state": {
            "_dom_classes": [],
            "_model_module": "@jupyter-widgets/controls",
            "_model_module_version": "1.5.0",
            "_model_name": "HTMLModel",
            "_view_count": null,
            "_view_module": "@jupyter-widgets/controls",
            "_view_module_version": "1.5.0",
            "_view_name": "HTMLView",
            "description": "",
            "description_tooltip": null,
            "layout": "IPY_MODEL_7908c0df7aa844869c1ba8b83010c5c9",
            "placeholder": "​",
            "style": "IPY_MODEL_3afd11749e1a48edb7218266465dabd0",
            "value": "Downloading builder script: 100%"
          }
        },
        "378c6cbe11744fec98389dfc6c46a708": {
          "model_module": "@jupyter-widgets/controls",
          "model_name": "FloatProgressModel",
          "model_module_version": "1.5.0",
          "state": {
            "_dom_classes": [],
            "_model_module": "@jupyter-widgets/controls",
            "_model_module_version": "1.5.0",
            "_model_name": "FloatProgressModel",
            "_view_count": null,
            "_view_module": "@jupyter-widgets/controls",
            "_view_module_version": "1.5.0",
            "_view_name": "ProgressView",
            "bar_style": "success",
            "description": "",
            "description_tooltip": null,
            "layout": "IPY_MODEL_d8cb52a4a9fc4751b1a10c5ffcd325c0",
            "max": 7021,
            "min": 0,
            "orientation": "horizontal",
            "style": "IPY_MODEL_e052e2039ee64654948c818a730ce9a6",
            "value": 7021
          }
        },
        "d72ff2c8c7bc4d27b5408faa18ee9a2e": {
          "model_module": "@jupyter-widgets/controls",
          "model_name": "HTMLModel",
          "model_module_version": "1.5.0",
          "state": {
            "_dom_classes": [],
            "_model_module": "@jupyter-widgets/controls",
            "_model_module_version": "1.5.0",
            "_model_name": "HTMLModel",
            "_view_count": null,
            "_view_module": "@jupyter-widgets/controls",
            "_view_module_version": "1.5.0",
            "_view_name": "HTMLView",
            "description": "",
            "description_tooltip": null,
            "layout": "IPY_MODEL_db3283e3619244bcb8bbd0cc65e21a4e",
            "placeholder": "​",
            "style": "IPY_MODEL_2385c479d1e8422b9fcc9ab820b6f385",
            "value": " 7.02k/7.02k [00:00&lt;00:00, 234kB/s]"
          }
        },
        "1a2c8aa8f3624834834b725f4a651280": {
          "model_module": "@jupyter-widgets/base",
          "model_name": "LayoutModel",
          "model_module_version": "1.2.0",
          "state": {
            "_model_module": "@jupyter-widgets/base",
            "_model_module_version": "1.2.0",
            "_model_name": "LayoutModel",
            "_view_count": null,
            "_view_module": "@jupyter-widgets/base",
            "_view_module_version": "1.2.0",
            "_view_name": "LayoutView",
            "align_content": null,
            "align_items": null,
            "align_self": null,
            "border": null,
            "bottom": null,
            "display": null,
            "flex": null,
            "flex_flow": null,
            "grid_area": null,
            "grid_auto_columns": null,
            "grid_auto_flow": null,
            "grid_auto_rows": null,
            "grid_column": null,
            "grid_gap": null,
            "grid_row": null,
            "grid_template_areas": null,
            "grid_template_columns": null,
            "grid_template_rows": null,
            "height": null,
            "justify_content": null,
            "justify_items": null,
            "left": null,
            "margin": null,
            "max_height": null,
            "max_width": null,
            "min_height": null,
            "min_width": null,
            "object_fit": null,
            "object_position": null,
            "order": null,
            "overflow": null,
            "overflow_x": null,
            "overflow_y": null,
            "padding": null,
            "right": null,
            "top": null,
            "visibility": null,
            "width": null
          }
        },
        "7908c0df7aa844869c1ba8b83010c5c9": {
          "model_module": "@jupyter-widgets/base",
          "model_name": "LayoutModel",
          "model_module_version": "1.2.0",
          "state": {
            "_model_module": "@jupyter-widgets/base",
            "_model_module_version": "1.2.0",
            "_model_name": "LayoutModel",
            "_view_count": null,
            "_view_module": "@jupyter-widgets/base",
            "_view_module_version": "1.2.0",
            "_view_name": "LayoutView",
            "align_content": null,
            "align_items": null,
            "align_self": null,
            "border": null,
            "bottom": null,
            "display": null,
            "flex": null,
            "flex_flow": null,
            "grid_area": null,
            "grid_auto_columns": null,
            "grid_auto_flow": null,
            "grid_auto_rows": null,
            "grid_column": null,
            "grid_gap": null,
            "grid_row": null,
            "grid_template_areas": null,
            "grid_template_columns": null,
            "grid_template_rows": null,
            "height": null,
            "justify_content": null,
            "justify_items": null,
            "left": null,
            "margin": null,
            "max_height": null,
            "max_width": null,
            "min_height": null,
            "min_width": null,
            "object_fit": null,
            "object_position": null,
            "order": null,
            "overflow": null,
            "overflow_x": null,
            "overflow_y": null,
            "padding": null,
            "right": null,
            "top": null,
            "visibility": null,
            "width": null
          }
        },
        "3afd11749e1a48edb7218266465dabd0": {
          "model_module": "@jupyter-widgets/controls",
          "model_name": "DescriptionStyleModel",
          "model_module_version": "1.5.0",
          "state": {
            "_model_module": "@jupyter-widgets/controls",
            "_model_module_version": "1.5.0",
            "_model_name": "DescriptionStyleModel",
            "_view_count": null,
            "_view_module": "@jupyter-widgets/base",
            "_view_module_version": "1.2.0",
            "_view_name": "StyleView",
            "description_width": ""
          }
        },
        "d8cb52a4a9fc4751b1a10c5ffcd325c0": {
          "model_module": "@jupyter-widgets/base",
          "model_name": "LayoutModel",
          "model_module_version": "1.2.0",
          "state": {
            "_model_module": "@jupyter-widgets/base",
            "_model_module_version": "1.2.0",
            "_model_name": "LayoutModel",
            "_view_count": null,
            "_view_module": "@jupyter-widgets/base",
            "_view_module_version": "1.2.0",
            "_view_name": "LayoutView",
            "align_content": null,
            "align_items": null,
            "align_self": null,
            "border": null,
            "bottom": null,
            "display": null,
            "flex": null,
            "flex_flow": null,
            "grid_area": null,
            "grid_auto_columns": null,
            "grid_auto_flow": null,
            "grid_auto_rows": null,
            "grid_column": null,
            "grid_gap": null,
            "grid_row": null,
            "grid_template_areas": null,
            "grid_template_columns": null,
            "grid_template_rows": null,
            "height": null,
            "justify_content": null,
            "justify_items": null,
            "left": null,
            "margin": null,
            "max_height": null,
            "max_width": null,
            "min_height": null,
            "min_width": null,
            "object_fit": null,
            "object_position": null,
            "order": null,
            "overflow": null,
            "overflow_x": null,
            "overflow_y": null,
            "padding": null,
            "right": null,
            "top": null,
            "visibility": null,
            "width": null
          }
        },
        "e052e2039ee64654948c818a730ce9a6": {
          "model_module": "@jupyter-widgets/controls",
          "model_name": "ProgressStyleModel",
          "model_module_version": "1.5.0",
          "state": {
            "_model_module": "@jupyter-widgets/controls",
            "_model_module_version": "1.5.0",
            "_model_name": "ProgressStyleModel",
            "_view_count": null,
            "_view_module": "@jupyter-widgets/base",
            "_view_module_version": "1.2.0",
            "_view_name": "StyleView",
            "bar_color": null,
            "description_width": ""
          }
        },
        "db3283e3619244bcb8bbd0cc65e21a4e": {
          "model_module": "@jupyter-widgets/base",
          "model_name": "LayoutModel",
          "model_module_version": "1.2.0",
          "state": {
            "_model_module": "@jupyter-widgets/base",
            "_model_module_version": "1.2.0",
            "_model_name": "LayoutModel",
            "_view_count": null,
            "_view_module": "@jupyter-widgets/base",
            "_view_module_version": "1.2.0",
            "_view_name": "LayoutView",
            "align_content": null,
            "align_items": null,
            "align_self": null,
            "border": null,
            "bottom": null,
            "display": null,
            "flex": null,
            "flex_flow": null,
            "grid_area": null,
            "grid_auto_columns": null,
            "grid_auto_flow": null,
            "grid_auto_rows": null,
            "grid_column": null,
            "grid_gap": null,
            "grid_row": null,
            "grid_template_areas": null,
            "grid_template_columns": null,
            "grid_template_rows": null,
            "height": null,
            "justify_content": null,
            "justify_items": null,
            "left": null,
            "margin": null,
            "max_height": null,
            "max_width": null,
            "min_height": null,
            "min_width": null,
            "object_fit": null,
            "object_position": null,
            "order": null,
            "overflow": null,
            "overflow_x": null,
            "overflow_y": null,
            "padding": null,
            "right": null,
            "top": null,
            "visibility": null,
            "width": null
          }
        },
        "2385c479d1e8422b9fcc9ab820b6f385": {
          "model_module": "@jupyter-widgets/controls",
          "model_name": "DescriptionStyleModel",
          "model_module_version": "1.5.0",
          "state": {
            "_model_module": "@jupyter-widgets/controls",
            "_model_module_version": "1.5.0",
            "_model_name": "DescriptionStyleModel",
            "_view_count": null,
            "_view_module": "@jupyter-widgets/base",
            "_view_module_version": "1.2.0",
            "_view_name": "StyleView",
            "description_width": ""
          }
        }
      }
    },
    "accelerator": "GPU"
  },
  "nbformat": 4,
  "nbformat_minor": 0
}