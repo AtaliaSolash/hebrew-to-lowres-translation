{
 "cells": [
  {
   "cell_type": "code",
   "execution_count": 49,
   "metadata": {},
   "outputs": [],
   "source": [
    "import requests\n",
    "import gzip\n",
    "import xml.etree.ElementTree as ET\n",
    "import os\n",
    "import zipfile\n",
    "import re\n",
    "import random\n",
    "import string\n",
    "from sentence_transformers import SentenceTransformer\n",
    "from sklearn.metrics.pairwise import cosine_similarity\n",
    "import pickle"
   ]
  },
  {
   "cell_type": "code",
   "execution_count": 4,
   "metadata": {},
   "outputs": [],
   "source": [
    "##create_ted_xml_files!\n",
    "# Function to download and extract ZIP files\n",
    "def download_and_extract(url, output_dir):\n",
    "    response = requests.get(url)\n",
    "    zip_file = os.path.join(output_dir, 'temp.zip')\n",
    "    \n",
    "    with open(zip_file, 'wb') as f:\n",
    "        f.write(response.content)\n",
    "    \n",
    "    # Extract ZIP file\n",
    "    with zipfile.ZipFile(zip_file, 'r') as zip_ref:\n",
    "        zip_ref.extractall(output_dir)\n",
    "\n",
    "    # Delete the temporary ZIP file\n",
    "    os.remove(zip_file)\n",
    "\n",
    "\n"
   ]
  },
  {
   "cell_type": "code",
   "execution_count": 5,
   "metadata": {},
   "outputs": [],
   "source": [
    "# Example URLs for downloading\n",
    "heb_url = 'https://object.pouta.csc.fi/OPUS-TED2020/v1/xml/he.zip'\n",
    "uk_url = 'https://object.pouta.csc.fi/OPUS-TED2020/v1/xml/uk.zip'\n",
    "fi_url = 'https://object.pouta.csc.fi/OPUS-TED2020/v1/xml/fi.zip'\n",
    "\n",
    "# Directories to store the extracted files\n",
    "output_dir = 'ted_xml_files'\n",
    "\n",
    "# Create the directory if it doesn't exist\n",
    "os.makedirs(output_dir, exist_ok=True)\n",
    "\n",
    "# Download and extract the files\n",
    "download_and_extract(heb_url, output_dir)\n",
    "download_and_extract(uk_url, output_dir)\n",
    "download_and_extract(fi_url, output_dir)\n"
   ]
  },
  {
   "cell_type": "code",
   "execution_count": 6,
   "metadata": {},
   "outputs": [],
   "source": [
    "def decompress_alignments(input_file, output_file):\n",
    "    with gzip.open(input_file, 'rb') as f_in:\n",
    "        with open(output_file, 'wb') as f_out:\n",
    "            f_out.write(f_in.read())"
   ]
  },
  {
   "cell_type": "code",
   "execution_count": 7,
   "metadata": {},
   "outputs": [],
   "source": [
    "he_uk_pairs = 'he-uk.xml'\n",
    "he_uk_alignments = 'he_uk_alignments.xml'\n",
    "decompress_alignments(he_uk_pairs, he_uk_alignments)"
   ]
  },
  {
   "cell_type": "code",
   "execution_count": 8,
   "metadata": {},
   "outputs": [],
   "source": [
    "he_fi_pairs = 'he-fi.xml'\n",
    "he_fi_alignments = 'he_fi_alignments.xml'\n",
    "decompress_alignments(he_fi_pairs, he_fi_alignments)"
   ]
  },
  {
   "cell_type": "code",
   "execution_count": 9,
   "metadata": {},
   "outputs": [],
   "source": [
    "def extract_sentences_from_xml(folder_path):\n",
    "    all_sentences = {}\n",
    "    \n",
    "    # Iterate through each XML file in the folder\n",
    "    for filename in os.listdir(folder_path):\n",
    "        if filename.endswith(\".xml\"):\n",
    "            file_path = os.path.join(folder_path, filename)\n",
    "            \n",
    "            # Parse the XML file\n",
    "            tree = ET.parse(file_path)\n",
    "            root = tree.getroot()\n",
    "            \n",
    "            # Dictionary to temporarily store sentences\n",
    "            temp_sentences = {}\n",
    "            \n",
    "            # Extract sentences from the XML file\n",
    "            for sentence in root.findall(\".//s\"):\n",
    "                sentence_id = sentence.get('id')\n",
    "                words = [word.text for word in sentence.findall('.//w')]\n",
    "                full_sentence = ' '.join(words)\n",
    "                \n",
    "                # Temporarily store sentences by their IDs (even sub-IDs)\n",
    "                temp_sentences[sentence_id] = full_sentence\n",
    "            \n",
    "            # Now merge sub-sentences into the main sentence\n",
    "            merged_sentences = {}\n",
    "            for sentence_id, sentence in temp_sentences.items():\n",
    "                main_id = sentence_id.split('.')[0]  # Get the main sentence ID (e.g., '1')\n",
    "                if main_id not in merged_sentences:\n",
    "                    merged_sentences[main_id] = sentence\n",
    "                else:\n",
    "                    # Append the sub-sentence to the main sentence\n",
    "                    merged_sentences[main_id] += ' ' + sentence\n",
    "            \n",
    "            # Store the final merged sentences in the all_sentences dictionary\n",
    "            for sentence_id, sentence in merged_sentences.items():\n",
    "                all_sentences[(filename, sentence_id)] = sentence\n",
    "    \n",
    "    return all_sentences"
   ]
  },
  {
   "cell_type": "code",
   "execution_count": 10,
   "metadata": {},
   "outputs": [],
   "source": [
    "# Folder path where your XML files are stored\n",
    "fi_folder_path = '/home/shirmash/research_methods/ted_xml_files/TED2020/xml/fi'\n",
    "he_folder_path = '/home/shirmash/research_methods/ted_xml_files/TED2020/xml/he'\n",
    "uk_folder_path = '/home/shirmash/research_methods/ted_xml_files/TED2020/xml/uk'"
   ]
  },
  {
   "cell_type": "code",
   "execution_count": 11,
   "metadata": {},
   "outputs": [],
   "source": [
    "fi_all_sentences = extract_sentences_from_xml(fi_folder_path)\n",
    "he_all_sentences = extract_sentences_from_xml(he_folder_path)\n",
    "uk_all_sentences = extract_sentences_from_xml(uk_folder_path)"
   ]
  },
  {
   "cell_type": "code",
   "execution_count": 12,
   "metadata": {},
   "outputs": [
    {
     "name": "stdout",
     "output_type": "stream",
     "text": [
      "('ted2020-553.xml', '1') אני כאן כי יש לי הודעה חשובה מאוד . אני חושב שמצאנו את הגורם החשוב ביותר להצלחה .\n",
      "('ted2020-553.xml', '2') מצאו אותו לא רחוק מכאן , בסטנפורד .\n",
      "('ted2020-553.xml', '3') פרופסור לפסיכולוגיה לקח ילדים בני ארבע והשאיר אותם לגמרי לבדם בחדר .\n",
      "('ted2020-553.xml', '4') והוא אמר לילד , לילד בן הארבע , \" ג ' וני , אני הולך להשאיר אותך כאן עם מרשמלו ל-15 דקות .\n",
      "('ted2020-553.xml', '5') אם כשאני אחזור המרשמלו יהיה כאן , תקבל עוד אחד . ואז יהיו לך שניים . \"\n"
     ]
    }
   ],
   "source": [
    "for idx, (key, value) in enumerate(he_all_sentences.items()):\n",
    "    if idx == 5:\n",
    "        break\n",
    "    print(key, value)"
   ]
  },
  {
   "cell_type": "code",
   "execution_count": 13,
   "metadata": {},
   "outputs": [
    {
     "name": "stdout",
     "output_type": "stream",
     "text": [
      "('ted2020-553.xml', '1') Olen täällä , koska minulla on tärkeä viesti . Olemme luullakseni löytäneet tärkeimmän tekijän menestykseen .\n",
      "('ted2020-553.xml', '2') Ja se löydettiin tässä lähellä , Stanfordissa .\n",
      "('ted2020-553.xml', '3') Psykologian professori laittoi neljävuotiaita lapsia huoneeseen ja jätti heidät itsekseen .\n",
      "('ted2020-553.xml', '4') Hän kertoi lapsille : \" Johnny , aion nyt lähteä ja jättää sinut yksin vaahtokarkin kanssa 15 minuutiksi . \"\n",
      "('ted2020-553.xml', '5') \" Jos karkki on tässä , kun tulen takaisin , saat toisenkin . Eli saat kaksi . \"\n"
     ]
    }
   ],
   "source": [
    "for idx, (key, value) in enumerate(fi_all_sentences.items()):\n",
    "    if idx == 5:\n",
    "        break\n",
    "    print(key, value)"
   ]
  },
  {
   "cell_type": "code",
   "execution_count": 14,
   "metadata": {},
   "outputs": [],
   "source": [
    "def combine_dicts(dict1, dict2):\n",
    "    # Create a new dictionary where the key is present in both dict1 and dict2\n",
    "    combined_dict = {}\n",
    "\n",
    "    for key in dict1:\n",
    "        if key in dict2:\n",
    "            combined_dict[key] = [dict1[key], dict2[key]]\n",
    "\n",
    "    return combined_dict"
   ]
  },
  {
   "cell_type": "code",
   "execution_count": 15,
   "metadata": {},
   "outputs": [
    {
     "name": "stdout",
     "output_type": "stream",
     "text": [
      "Hebrew - Ukrainian Dictionary:\n",
      "188241\n",
      "\n",
      "Hebrew - Finnish Dictionary:\n",
      "43751\n"
     ]
    }
   ],
   "source": [
    "# Create the mappings\n",
    "he_uk_dict= combine_dicts(he_all_sentences, uk_all_sentences)\n",
    "he_fi_dict= combine_dicts(he_all_sentences, fi_all_sentences)\n",
    "# Output the results\n",
    "print(\"Hebrew - Ukrainian Dictionary:\")\n",
    "print(len(he_uk_dict))\n",
    "\n",
    "print(\"\\nHebrew - Finnish Dictionary:\")\n",
    "print(len(he_fi_dict))"
   ]
  },
  {
   "cell_type": "markdown",
   "metadata": {},
   "source": [
    "download verion after filtering by embedding similarity"
   ]
  },
  {
   "cell_type": "code",
   "execution_count": 50,
   "metadata": {},
   "outputs": [],
   "source": [
    "with open(\"filtered_he_uk_dict_by_sim.pkl\", \"rb\") as f:\n",
    "    loaded_he_uk_dict = pickle.load(f)\n",
    "\n",
    "with open(\"filtered_he_fi_dict_by_sim.pkl\", \"rb\") as f:\n",
    "    loaded_he_fi_dict = pickle.load(f)"
   ]
  },
  {
   "cell_type": "code",
   "execution_count": 16,
   "metadata": {},
   "outputs": [],
   "source": [
    "\n",
    "def clean_sentence(sentence):\n",
    "    # Remove punctuation for language checking but leave spaces\n",
    "    return ''.join(ch for ch in sentence if ch not in string.punctuation)\n",
    "\n",
    "\n",
    "def contains_english(sentence):\n",
    "    cleaned_sentence = clean_sentence(sentence)\n",
    "    return bool(re.search(r'[A-Za-z]', cleaned_sentence))  # Contains any English letters\n",
    "\n",
    "\n"
   ]
  },
  {
   "cell_type": "code",
   "execution_count": 17,
   "metadata": {},
   "outputs": [],
   "source": [
    "\n",
    "# Function to filter sentences in the given dictionaries\n",
    "def filter_valid_sentences_by_english(data_dict):\n",
    "    valid_sentences = {}\n",
    "    for identifier, sentences in data_dict.items():\n",
    "        hebrew_sentence, second_sentence = sentences\n",
    "        # Check that neither sentence contains English characters\n",
    "        if not contains_english(hebrew_sentence):\n",
    "                valid_sentences[identifier] = sentences\n",
    "        \n",
    "    \n",
    "    return valid_sentences"
   ]
  },
  {
   "cell_type": "code",
   "execution_count": 46,
   "metadata": {},
   "outputs": [],
   "source": [
    "def filter_dict(input_dict, thres=0.75):\n",
    "    # Load the Sentence Transformer model\n",
    "    model = SentenceTransformer('intfloat/multilingual-e5-large').to('cuda')\n",
    "    \n",
    "    # Dictionary to hold valid sentences\n",
    "    valid_dict = {}\n",
    "    \n",
    "    for key, sentences in input_dict.items():\n",
    "        # Encode the pair of sentences\n",
    "        embeddings = model.encode(sentences, normalize_embeddings=True)\n",
    "        \n",
    "        # Compute cosine similarity\n",
    "        dist = cosine_similarity(embeddings[0].reshape(1, -1), embeddings[1].reshape(1, -1))[0][0]\n",
    "        \n",
    "        # Retain only the sentences that meet the threshold\n",
    "        if dist >= thres:\n",
    "            valid_dict[key] = sentences\n",
    "    \n",
    "    return valid_dict"
   ]
  },
  {
   "cell_type": "code",
   "execution_count": 47,
   "metadata": {},
   "outputs": [],
   "source": [
    "def select_random_sample_with_matching_keys(dict1, dict2, sample_size=50000):\n",
    "    # Find common keys between both dictionaries\n",
    "    common_keys = set(dict1.keys()).intersection(set(dict2.keys()))\n",
    "    \n",
    "    # If there are fewer common keys than the sample size, return all\n",
    "    if len(common_keys) < sample_size:\n",
    "        print(f\"Only {len(common_keys)} common keys found, returning all.\")\n",
    "        sampled_keys = list(common_keys)\n",
    "    else:\n",
    "        # Randomly sample the required number of keys from the common keys\n",
    "        sampled_keys = random.sample(common_keys, sample_size)\n",
    "    \n",
    "    # Create new dictionaries with sampled keys, ensuring keys are ordered\n",
    "    sampled_dict1 = {key: dict1[key] for key in sorted(sampled_keys)}\n",
    "    sampled_dict2 = {key: dict2[key] for key in sorted(sampled_keys)}\n",
    "    \n",
    "    return sampled_dict1, sampled_dict2"
   ]
  },
  {
   "cell_type": "code",
   "execution_count": 55,
   "metadata": {},
   "outputs": [
    {
     "name": "stdout",
     "output_type": "stream",
     "text": [
      "Sampled Hebrew-Ukraine Dictionary: 20000\n",
      "Sampled Hebrew-Finnish Dictionary: 20000\n"
     ]
    },
    {
     "name": "stderr",
     "output_type": "stream",
     "text": [
      "/tmp/ipykernel_1460133/2559842779.py:11: DeprecationWarning: Sampling from a set deprecated\n",
      "since Python 3.9 and will be removed in a subsequent version.\n",
      "  sampled_keys = random.sample(common_keys, sample_size)\n"
     ]
    }
   ],
   "source": [
    "filtered_he_uk_dict = filter_valid_sentences_by_english(loaded_he_uk_dict)\n",
    "filtered_he_fi_dict = filter_valid_sentences_by_english(loaded_he_fi_dict)\n",
    "\n",
    "#filtered_he_uk_dict = filter_dict(filtered_he_uk_dict, thres=0.75)\n",
    "# filtered_he_fi_dict = filter_dict(filtered_he_fi_dict, thres=0.75)\n",
    "\n",
    "\n",
    "sampled_he_uk_dict,sampled_he_fi_dict = select_random_sample_with_matching_keys(filtered_he_uk_dict,filtered_he_fi_dict, 20000)\n",
    "\n",
    "# The dictionaries now contain 50,000 randomly selected valid sentences or fewer\n",
    "print(\"Sampled Hebrew-Ukraine Dictionary:\", len(sampled_he_uk_dict))\n",
    "print(\"Sampled Hebrew-Finnish Dictionary:\", len(sampled_he_fi_dict))\n"
   ]
  },
  {
   "cell_type": "code",
   "execution_count": 57,
   "metadata": {},
   "outputs": [
    {
     "name": "stdout",
     "output_type": "stream",
     "text": [
      "('ted2020-10.xml', '1') ['עם כל החששות הלגיטימיים על איידס , שפעת העופות -- ואנו נשמע על זה מד \" ר בריליאנט המבריק מאוחר יותר -- אני אדבר על מגיפות אחרות , מחלות לב , כלי דם , סוכרת ויתר לחץ דם שהן ניתנות למניעה לחלוטין עבור לפחות 95 אחוז של אנשים , על ידי שינוי תזונה ואורח חיים .', 'Враховуючи всю резонність стурбованості про СНІД і пташиний грип — ми ще почуємо про це від геніального Доктора Бриллиант сьогодні — я хотів би поговорити про іншу пандемію , а саме , про серцево-судинні захворювання , діабет , гіпертонію — захворювання , що можна повністю уникнути принаймні в 95 % людей , змінивши дієту і спосіб життя .']\n",
      "('ted2020-10.xml', '10') ['אבל באסיה מתחילים לאכול כמונו וזו הסיבה שהם מתחילים לחלות כמונו .', 'Але люди в Азії починають харчуватися як ми , і тому вони починають хворіти як ми .']\n",
      "('ted2020-10.xml', '12') [\"הסלטים במקדונלד ' ס מקורם בעבודה זו . בפפסי , שני שליש מהצמיחה מגיע מהאוכל הבריא .\", 'Салати , які ви бачите в МакДональдсах , — це результат тієї роботи — у них незабаром буде азійський салат . В Пепсі дві третини зросту прибутків надійшли з їх більш здорової їжі .']\n",
      "('ted2020-10.xml', '13') ['אז אם אנחנו יכולים לעשות את זה , אפשר להפנות משאבים עבור רכישת תרופות שבאמת צריכים לטיפול באיידס , מלריה ומניעת שפעת העופות . תודה .', 'Отже , якщо ми зможемо це зробити , тоді ми зможемо вивільнити ресурси для закупівлі ліків , які нам справді потрібні для лікування СНІД та ВІЛ та малярії та для запобігання пташиному грипу . Дякую .']\n",
      "('ted2020-10.xml', '2') ['מה שקורה הוא שיש גלובליזציה של מחלות , כשאנשים מתחילים לאכול כמונו , ולחיות כמונו , ולמות כמונו . בתוך דור אחד , אסיה עברה מאחת מהנמוכות בעולם בשכיחות מחלות לב , השמנת יתר וסוכרת , לאחת מהגבוהות . באפריקה , מחלות הלב שוות למספר מקרי המוות מאיידס ברוב המדינות .', 'А відбувається ось що : йде глобалізація хвороб , і люди починають їсти як ми , жити як ми , і помирати як ми . За одне покоління , наприклад , Азія перейшла з категорії із одним з найнижчих показників серцевих захворювань , ожиріння і діабету , в найвищу . І в Африці , серцево-судинні захворювання забирають життя такої ж кількості людей як ВІЛ і СНІД в більшості країн .']\n"
     ]
    }
   ],
   "source": [
    "for idx, (k, value) in enumerate(sampled_he_uk_dict.items()):\n",
    "    if idx == 5:\n",
    "        break\n",
    "    print(k, value)"
   ]
  },
  {
   "cell_type": "code",
   "execution_count": 59,
   "metadata": {},
   "outputs": [
    {
     "name": "stdout",
     "output_type": "stream",
     "text": [
      "('ted2020-10.xml', '1') ['עם כל החששות הלגיטימיים על איידס , שפעת העופות -- ואנו נשמע על זה מד \" ר בריליאנט המבריק מאוחר יותר -- אני אדבר על מגיפות אחרות , מחלות לב , כלי דם , סוכרת ויתר לחץ דם שהן ניתנות למניעה לחלוטין עבור לפחות 95 אחוז של אנשים , על ידי שינוי תזונה ואורח חיים .', 'Näiden oikeutettujen AIDS- ja lintuinfluenssahuolien -- ja kuulemme näistä lisää myöhemmin loistavalta tohtori Brilliantilta -- tahdon puhua teille muista pandemioista , joita ovat sydän- ja verisuonitaudit , diabetes , verenpainetauti -- kaikki täysin ehkäistävissä ainakin 95 prosentissa ihmisistä vain muuttamalla ruokailutottumuksia ja elämäntapaa .']\n",
      "('ted2020-10.xml', '10') ['אבל באסיה מתחילים לאכול כמונו וזו הסיבה שהם מתחילים לחלות כמונו .', 'Mutta ihmiset Aasiassa ovat alkaneet syödä kuin me , minkä takia he ovat alkaneet sairastua kuten me .']\n",
      "('ted2020-10.xml', '12') [\"הסלטים במקדונלד ' ס מקורם בעבודה זו . בפפסי , שני שליש מהצמיחה מגיע מהאוכל הבריא .\", \"Salaatit , jotka näette McDonald ' sissa , ovat tämän työn hedelmiä -- heiltä on tulossa aasialainen salaatti . Pepsillä kaksi kolmasosaa tuloskasvusta tuli heidän paremmista ruuistaan .\"]\n",
      "('ted2020-10.xml', '13') ['אז אם אנחנו יכולים לעשות את זה , אפשר להפנות משאבים עבור רכישת תרופות שבאמת צריכים לטיפול באיידס , מלריה ומניעת שפעת העופות . תודה .', 'Ja jos voimme tehdä tämän , voimme vapauttaa resursseja todella tarpeellisten lääkkeiden ostoon hoitaaksemme AIDSia , HIViä ja malariaa ja estääksemme lintuinfluenssaa . Kiitos .']\n",
      "('ted2020-10.xml', '2') ['מה שקורה הוא שיש גלובליזציה של מחלות , כשאנשים מתחילים לאכול כמונו , ולחיות כמונו , ולמות כמונו . בתוך דור אחד , אסיה עברה מאחת מהנמוכות בעולם בשכיחות מחלות לב , השמנת יתר וסוכרת , לאחת מהגבוהות . באפריקה , מחלות הלב שוות למספר מקרי המוות מאיידס ברוב המדינות .', 'On käymässä niin , että sairaudet globalisoituvat , että ihmiset alkavat syödä kuin me , elää kuin me ja kuolla kuin me . Yhdessä sukupolvessa , esimerkiksi Aasia on muuttunut yhdestä alhaisimpien sydäntautien ja ylipainon ja diabeteksen alueista yhdeksi korkeimmista . Ja Afrikassa sydän- ja verisuonitaudit pääsevät tasoihin HIV- ja AIDS-kuolemien kanssa useimmissa maissa .']\n"
     ]
    }
   ],
   "source": [
    "for idx, (k, value) in enumerate(sampled_he_fi_dict.items()):\n",
    "    if idx == 5:\n",
    "        break\n",
    "    print(k, value)"
   ]
  },
  {
   "cell_type": "code",
   "execution_count": 62,
   "metadata": {},
   "outputs": [],
   "source": [
    "import pickle\n",
    "with open(\"final_he_fi_dict.pkl\", \"wb\") as f:\n",
    "    pickle.dump(sampled_he_fi_dict, f)\n",
    "\n",
    "with open(\"final_he_uk_dict.pkl\", \"wb\") as f:\n",
    "    pickle.dump(sampled_he_uk_dict, f)"
   ]
  }
 ],
 "metadata": {
  "kernelspec": {
   "display_name": "rm_env",
   "language": "python",
   "name": "python3"
  },
  "language_info": {
   "codemirror_mode": {
    "name": "ipython",
    "version": 3
   },
   "file_extension": ".py",
   "mimetype": "text/x-python",
   "name": "python",
   "nbconvert_exporter": "python",
   "pygments_lexer": "ipython3",
   "version": "3.10.16"
  }
 },
 "nbformat": 4,
 "nbformat_minor": 2
}
